{
 "cells": [
  {
   "cell_type": "code",
   "execution_count": null,
   "metadata": {},
   "outputs": [
    {
     "name": "stdout",
     "output_type": "stream",
     "text": [
      "<class 'pandas.core.frame.DataFrame'>\n",
      "RangeIndex: 10122 entries, 0 to 10121\n",
      "Data columns (total 21 columns):\n",
      " #   Column          Non-Null Count  Dtype  \n",
      "---  ------          --------------  -----  \n",
      " 0   age             10122 non-null  int64  \n",
      " 1   job             10122 non-null  object \n",
      " 2   marital         10122 non-null  object \n",
      " 3   education       10122 non-null  object \n",
      " 4   default         10122 non-null  object \n",
      " 5   housing         10122 non-null  object \n",
      " 6   loan            10122 non-null  object \n",
      " 7   contact         10122 non-null  object \n",
      " 8   month           10122 non-null  object \n",
      " 9   day_of_week     10122 non-null  object \n",
      " 10  duration        10122 non-null  int64  \n",
      " 11  campaign        10122 non-null  int64  \n",
      " 12  pdays           10122 non-null  int64  \n",
      " 13  previous        10122 non-null  int64  \n",
      " 14  poutcome        10122 non-null  object \n",
      " 15  emp.var.rate    10122 non-null  float64\n",
      " 16  cons.price.idx  10122 non-null  float64\n",
      " 17  cons.conf.idx   10122 non-null  float64\n",
      " 18  euribor3m       10122 non-null  float64\n",
      " 19  nr.employed     10122 non-null  float64\n",
      " 20  y               10122 non-null  object \n",
      "dtypes: float64(5), int64(5), object(11)\n",
      "memory usage: 1.6+ MB\n"
     ]
    }
   ],
   "source": [
    "# INTRODUCTION TO K-NEAREST NEIGHBORS\n",
    "\n",
    "# Introduction to the Dataset\n",
    "\n",
    "import pandas as pd\n",
    "\n",
    "banking_df = pd.read_csv('../dataset/subscription_prediction.csv')\n",
    "banking_df.info()"
   ]
  },
  {
   "cell_type": "code",
   "execution_count": null,
   "metadata": {},
   "outputs": [],
   "source": [
    "# DATA PREPARATION\n",
    "\n"
   ]
  }
 ],
 "metadata": {
  "kernelspec": {
   "display_name": "base",
   "language": "python",
   "name": "python3"
  },
  "language_info": {
   "codemirror_mode": {
    "name": "ipython",
    "version": 3
   },
   "file_extension": ".py",
   "mimetype": "text/x-python",
   "name": "python",
   "nbconvert_exporter": "python",
   "pygments_lexer": "ipython3",
   "version": "3.11.7"
  }
 },
 "nbformat": 4,
 "nbformat_minor": 2
}
