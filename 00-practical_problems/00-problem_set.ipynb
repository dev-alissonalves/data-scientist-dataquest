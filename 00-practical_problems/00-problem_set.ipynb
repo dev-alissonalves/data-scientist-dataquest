{
 "cells": [
  {
   "cell_type": "code",
   "execution_count": 48,
   "metadata": {},
   "outputs": [
    {
     "name": "stdout",
     "output_type": "stream",
     "text": [
      "11110\n"
     ]
    }
   ],
   "source": [
    "''' \n",
    "\n",
    "Aprender\n",
    "Na primeira lição de Fundamentos do Python, aprendemos que o Python pode ser usado para realizar cálculos numéricos e imprimir os resultados na tela.\n",
    "\n",
    "Vamos praticar a adição de valores.\n",
    "\n",
    "Instruções\n",
    "Some os valores 1234 e 9876 e imprima o resultado na tela.\n",
    "\n",
    "'''\n",
    "\n",
    "print(1234 + 9876)"
   ]
  },
  {
   "cell_type": "code",
   "execution_count": 49,
   "metadata": {},
   "outputs": [
    {
     "name": "stdout",
     "output_type": "stream",
     "text": [
      "925\n"
     ]
    }
   ],
   "source": [
    "''' \n",
    "\n",
    "Aprender\n",
    "Você recebeu um bônus de $1.000 pelo seu excelente trabalho! Você está planejando ir ao restaurante para comemorar. Você convidou seus dois melhores amigos, Alice e Bob. Seu prato custou $25, o de Alice custou $20 e o de Bob custou $30.\n",
    "\n",
    "Quanto dinheiro sobra depois do jantar?\n",
    "\n",
    "Instruções\n",
    "Use subtrações para calcular quanto dinheiro resta depois de pagar o jantar. Imprima o resultado na tela.\n",
    "\n",
    "''' \n",
    "\n",
    "total_money = 1000\n",
    "the_rest = 1000 - (25 + 20 + 30)\n",
    "print(the_rest)\n"
   ]
  },
  {
   "cell_type": "code",
   "execution_count": 50,
   "metadata": {},
   "outputs": [
    {
     "name": "stdout",
     "output_type": "stream",
     "text": [
      "21\n"
     ]
    }
   ],
   "source": [
    "''' \n",
    "\n",
    "Aprender\n",
    "Uma maneira de contar o número de células de uma tabela é multiplicar o número de linhas pelo número de colunas. Vamos usar esta técnica para contar o número de células na tabela a seguir:\n",
    "\n",
    "Instruções\n",
    "Conte o número de linhas e colunas na tabela acima.\n",
    "Imprima o número total de células multiplicando os dois valores obtidos na etapa 1.\n",
    "\n",
    "'''\n",
    "\n",
    "number_cols_rows = 3 * 7\n",
    "print(number_cols_rows)"
   ]
  },
  {
   "cell_type": "code",
   "execution_count": 51,
   "metadata": {},
   "outputs": [
    {
     "name": "stdout",
     "output_type": "stream",
     "text": [
      "19.985508996498005\n"
     ]
    }
   ],
   "source": [
    "''' \n",
    "Aprender\n",
    "O índice de massa corporal é uma tentativa de quantificar a quantidade de massa de tecido (músculo, gordura e osso) em um indivíduo e, em seguida, categorizar essa pessoa como abaixo do peso , peso normal , sobrepeso ou obesidade com base nesse valor.\n",
    "\n",
    "O índice de massa corporal de uma pessoa com peso w (em quilogramas) e altura h (em metros) é calculado como:\n",
    "\n",
    "c / h²\n",
    "Instruções\n",
    "Use a fórmula acima para calcular o índice de massa corporal de alguém que pesa 66,2 kg e tem 1,82 metros de altura . Imprima o resultado na tela.\n",
    "\n",
    "'''\n",
    "weight = 66.2\n",
    "height = 1.82\n",
    "\n",
    "BMI = weight / pow(height, 2) # height * height\n",
    "\n",
    "print(BMI)\n"
   ]
  },
  {
   "attachments": {
    "image.png": {
     "image/png": "[encoded data removed]"
    }
   },
   "cell_type": "markdown",
   "metadata": {},
   "source": [
    "Aprender\n",
    "O valor médio de uma lista de números é obtido dividindo sua soma pelo número de elementos da lista. Então a média entre 1, 2, 3 e 4 é:\n",
    "1 + 2 + 3 + 4 / 4 = 2,5\n",
    "A tabela abaixo mostra as taxas de criminalidade de cinco cidades dos EUA. Vamos calcular a taxa média de criminalidade dessas cinco cidades.\n",
    "\n",
    "![image.png](attachment:image.png)"
   ]
  },
  {
   "cell_type": "code",
   "execution_count": 52,
   "metadata": {},
   "outputs": [
    {
     "name": "stdout",
     "output_type": "stream",
     "text": [
      "766.0\n"
     ]
    }
   ],
   "source": [
    "number_of_cities = 5\n",
    "tax_crime = 749 + 371 + 828 + 503 + 1379\n",
    "\n",
    "the_mean_of_tax_crime = tax_crime / number_of_cities\n",
    "print(the_mean_of_tax_crime)"
   ]
  },
  {
   "cell_type": "code",
   "execution_count": 53,
   "metadata": {},
   "outputs": [
    {
     "name": "stdout",
     "output_type": "stream",
     "text": [
      "45000\n"
     ]
    }
   ],
   "source": [
    "'''\n",
    "\n",
    "Aprender\n",
    "Neste problema, você recebe uma hora do dia e o objetivo é calcular o número total de segundos que se passaram desde o início do dia.\n",
    "\n",
    "Lembre-se de que uma hora tem 3.600 segundos e um minuto tem 60 segundos. Assim, por exemplo, às 03h16 o número total de segundos que se passaram desde o início do dia é igual a:\n",
    "\n",
    "3 x 3,600 + 16 x 60 = 11, 760\n",
    "\n",
    "Instruções\n",
    "Usando o mesmo método acima, calcule o número total de segundos às 12h30. Imprima os resultados na tela.\n",
    "\n",
    "'''\n",
    "\n",
    "hour = 12 * 3600\n",
    "minutes = 30 * 60\n",
    "\n",
    "total_seconds = hour + minutes\n",
    "print(total_seconds)"
   ]
  },
  {
   "cell_type": "code",
   "execution_count": 54,
   "metadata": {},
   "outputs": [
    {
     "name": "stdout",
     "output_type": "stream",
     "text": [
      "4\n"
     ]
    }
   ],
   "source": [
    "''' \n",
    "\n",
    "Aprender\n",
    "Imagine que você convidou um grupo de 15 pessoas. Você preparou 50 cupcakes para seus convidados e deseja servir a mesma quantidade de cupcakes para cada pessoa. Se você não dividir nenhum cupcake em pedaços menores, cada convidado receberá 3 cupcakes e sobrarão 5 cupcakes.\n",
    "\n",
    "Em matemática, 3 (os cupcakes que cada convidado receberá), é chamado de divisão inteira de 50 por 15. Em geral, a divisão inteira é uma divisão em que a parte fracionária é descartada.\n",
    "\n",
    "print(50 / 15)\n",
    "3.33333333333\n",
    "\n",
    "\n",
    "\n",
    "Se descartarmos a parte fracionária (0,33333333333), obteremos de fato 3.\n",
    "\n",
    "Em Python podemos calcular a divisão inteira usando o //operador:\n",
    "\n",
    "print(50 // 15)\n",
    "3\n",
    "\n",
    "Se em vez de 15 pessoas e 50 cupcakes você convidar 32 pessoas e preparar 142 cupcakes. Quantos cupcakes cada convidado receberá?\n",
    "\n",
    "'''\n",
    "\n",
    "people = 32\n",
    "cupcakes = 142\n",
    "\n",
    "total_per_person = cupcakes // people\n",
    "print(total_per_person)\n"
   ]
  },
  {
   "cell_type": "code",
   "execution_count": 55,
   "metadata": {},
   "outputs": [
    {
     "name": "stdout",
     "output_type": "stream",
     "text": [
      "14\n"
     ]
    }
   ],
   "source": [
    "'''\n",
    "\n",
    "Aprender\n",
    "Imagine que você convidou um grupo de 15 pessoas. Você preparou 50 cupcakes para seus convidados e deseja servir a mesma quantidade de cupcakes para cada pessoa.\n",
    "\n",
    "Você alinha 15 pratos e começa a distribuir os cupcakes, um de cada vez. Depois de preencher cada um dos 15 pratos com 3 cupcakes cada, você percebe que não tem cupcakes suficientes para outra rodada.\n",
    "\n",
    "Você fica com 5 cupcakes.\n",
    "\n",
    "Em matemática, 5 (o número de cupcakes restantes) é chamado de resto da divisão de 50 por 15. Podemos escrever:\n",
    "\n",
    "50 = 3  x 15 + 5\n",
    "\n",
    "Em outras palavras, 15 cabe três vezes em 50 e sobra 5.\n",
    "Em Python, podemos calcular o restante da divisão usando o %operador:\n",
    "\n",
    "50 % 15\n",
    "\n",
    "'''\n",
    "\n",
    "people = 32\n",
    "cupcakes = 142\n",
    "\n",
    "the_rest = cupcakes % people\n",
    "print(the_rest)\n"
   ]
  },
  {
   "attachments": {
    "image.png": {
     "image/png": "[encoded data removed]"
    }
   },
   "cell_type": "markdown",
   "metadata": {},
   "source": [
    "- Aprender\n",
    "\n",
    "Diferentes regiões do mundo usam unidades diferentes para medir temperaturas.\n",
    "\n",
    "Neste problema prático, converteremos temperaturas expressas em Celsius (°C) para Fahrenheit (°F).\n",
    "\n",
    "Para converter uma temperatura de Celsius para Fahrenheit, precisamos:\n",
    "\n",
    "Multiplique por 9.\n",
    "Divida o resultado por 5.\n",
    "Adicione 32.\n",
    "Por exemplo, 10 °C é igual a 50 °F:\n",
    "\n",
    "![image.png](attachment:image.png)"
   ]
  },
  {
   "cell_type": "code",
   "execution_count": 56,
   "metadata": {},
   "outputs": [
    {
     "name": "stdout",
     "output_type": "stream",
     "text": [
      "86.0\n"
     ]
    }
   ],
   "source": [
    "celsius = 30\n",
    "fahrenheit = ((celsius * 9) / 5) + 32\n",
    "\n",
    "print(fahrenheit)"
   ]
  },
  {
   "attachments": {
    "image.png": {
     "image/png": "[encoded data removed]"
    }
   },
   "cell_type": "markdown",
   "metadata": {},
   "source": [
    "- Aprender\n",
    "\n",
    "Diferentes regiões do mundo usam unidades diferentes para medir temperaturas. \n",
    "Neste problema prático, converteremos temperaturas expressas em Celsius (°C) para Fahrenheit (°F).\n",
    "Para converter uma temperatura de Fahrenheit para Celsius, precisamos:\n",
    "\n",
    "Subtraia 32.\n",
    "Multiplique por 5.\n",
    "Divida por 9.\n",
    "Por exemplo, 50 °F é igual a 10 °C:\n",
    "\n",
    "![image.png](attachment:image.png)"
   ]
  },
  {
   "cell_type": "code",
   "execution_count": 58,
   "metadata": {},
   "outputs": [
    {
     "name": "stdout",
     "output_type": "stream",
     "text": [
      "30.0\n"
     ]
    }
   ],
   "source": [
    "fahrenheit = 86\n",
    "celsius = ((fahrenheit - 32) * 5) / 9\n",
    "\n",
    "print(celsius)"
   ]
  },
  {
   "cell_type": "code",
   "execution_count": 59,
   "metadata": {},
   "outputs": [
    {
     "name": "stdout",
     "output_type": "stream",
     "text": [
      "42 times 17 = 714\n"
     ]
    }
   ],
   "source": [
    "''' \n",
    "42\n",
    "\"times\"\n",
    "17\n",
    "\"=\"\n",
    "42 * 17\n",
    "\n",
    "\n",
    "Usando uma única instrução print, imprima os cinco valores fornecidos acima em uma única linha\n",
    "'''\n",
    "\n",
    "print(42, 'times', 17, '=', (42 * 17))"
   ]
  }
 ],
 "metadata": {
  "kernelspec": {
   "display_name": "base",
   "language": "python",
   "name": "python3"
  },
  "language_info": {
   "codemirror_mode": {
    "name": "ipython",
    "version": 3
   },
   "file_extension": ".py",
   "mimetype": "text/x-python",
   "name": "python",
   "nbconvert_exporter": "python",
   "pygments_lexer": "ipython3",
   "version": "3.11.5"
  }
 },
 "nbformat": 4,
 "nbformat_minor": 2
}
