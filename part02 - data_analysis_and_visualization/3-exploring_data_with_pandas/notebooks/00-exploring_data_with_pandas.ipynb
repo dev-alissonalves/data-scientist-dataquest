{
 "cells": [
  {
   "cell_type": "code",
   "execution_count": 1,
   "metadata": {},
   "outputs": [],
   "source": [
    "# Introduction to the Data\n",
    "\n",
    "import pandas as pd\n",
    "f500 = pd.read_csv('../dataset/f500.csv', index_col = 0)\n",
    "f500_head = f500.head()"
   ]
  },
  {
   "cell_type": "code",
   "execution_count": 2,
   "metadata": {},
   "outputs": [
    {
     "name": "stdout",
     "output_type": "stream",
     "text": [
      "<class 'pandas.core.frame.DataFrame'>\n",
      "Index: 500 entries, Walmart to AutoNation\n",
      "Data columns (total 16 columns):\n",
      " #   Column                    Non-Null Count  Dtype  \n",
      "---  ------                    --------------  -----  \n",
      " 0   rank                      500 non-null    int64  \n",
      " 1   revenues                  500 non-null    int64  \n",
      " 2   revenue_change            498 non-null    float64\n",
      " 3   profits                   499 non-null    float64\n",
      " 4   assets                    500 non-null    int64  \n",
      " 5   profit_change             436 non-null    float64\n",
      " 6   ceo                       500 non-null    object \n",
      " 7   industry                  500 non-null    object \n",
      " 8   sector                    500 non-null    object \n",
      " 9   previous_rank             500 non-null    int64  \n",
      " 10  country                   500 non-null    object \n",
      " 11  hq_location               500 non-null    object \n",
      " 12  website                   500 non-null    object \n",
      " 13  years_on_global_500_list  500 non-null    int64  \n",
      " 14  employees                 500 non-null    int64  \n",
      " 15  total_stockholder_equity  500 non-null    int64  \n",
      "dtypes: float64(3), int64(7), object(6)\n",
      "memory usage: 66.4+ KB\n"
     ]
    }
   ],
   "source": [
    "f500.info()"
   ]
  },
  {
   "cell_type": "code",
   "execution_count": 3,
   "metadata": {},
   "outputs": [
    {
     "name": "stdout",
     "output_type": "stream",
     "text": [
      "company\n",
      "Walmart                     0\n",
      "State Grid                  0\n",
      "Sinopec Group               1\n",
      "China National Petroleum   -1\n",
      "Toyota Motor                3\n",
      "dtype: int64\n"
     ]
    }
   ],
   "source": [
    "# Vectorized Operations\n",
    "rank_change = f500['previous_rank'] - f500['rank']\n",
    "print(rank_change[:5])"
   ]
  },
  {
   "cell_type": "code",
   "execution_count": 4,
   "metadata": {},
   "outputs": [
    {
     "name": "stdout",
     "output_type": "stream",
     "text": [
      "226 -500\n"
     ]
    }
   ],
   "source": [
    "# Series Data Exploration Methods\n",
    "\n",
    "rank_change_max = rank_change.max()\n",
    "rank_change_min = rank_change.min()\n",
    "print(rank_change_max, rank_change_min)"
   ]
  },
  {
   "cell_type": "code",
   "execution_count": 5,
   "metadata": {},
   "outputs": [
    {
     "name": "stdout",
     "output_type": "stream",
     "text": [
      "count    500.000000\n",
      "mean     250.500000\n",
      "std      144.481833\n",
      "min        1.000000\n",
      "25%      125.750000\n",
      "50%      250.500000\n",
      "75%      375.250000\n",
      "max      500.000000\n",
      "Name: rank, dtype: float64\n",
      "count    500.000000\n",
      "mean     222.134000\n",
      "std      146.941961\n",
      "min        0.000000\n",
      "25%       92.750000\n",
      "50%      219.500000\n",
      "75%      347.250000\n",
      "max      500.000000\n",
      "Name: previous_rank, dtype: float64\n"
     ]
    }
   ],
   "source": [
    "# Series Describe Method\n",
    "\n",
    "rank = f500['rank']\n",
    "rank_desc = rank.describe()\n",
    "\n",
    "prev_rank = f500['previous_rank']\n",
    "prev_rank_desc = prev_rank.describe()\n",
    "\n",
    "print(rank_desc)\n",
    "print(prev_rank_desc)\n"
   ]
  },
  {
   "cell_type": "code",
   "execution_count": 6,
   "metadata": {},
   "outputs": [
    {
     "name": "stdout",
     "output_type": "stream",
     "text": [
      "33\n"
     ]
    }
   ],
   "source": [
    "# Method Chaining\n",
    "f500['previous_rank'].head()\n",
    "\n",
    "zero_previous_rank = f500['previous_rank'].value_counts().loc[0]\n",
    "print(zero_previous_rank)"
   ]
  },
  {
   "cell_type": "code",
   "execution_count": 7,
   "metadata": {},
   "outputs": [],
   "source": [
    "# Dataframe Exploration Methods\n",
    "\n",
    "max_f500 = f500.max(numeric_only = True)"
   ]
  },
  {
   "cell_type": "code",
   "execution_count": 8,
   "metadata": {},
   "outputs": [
    {
     "name": "stdout",
     "output_type": "stream",
     "text": [
      "             rank       revenues  revenue_change       profits        assets  \\\n",
      "count  500.000000     500.000000      498.000000    499.000000  5.000000e+02   \n",
      "mean   250.500000   55416.358000        4.538353   3055.203206  2.436323e+05   \n",
      "std    144.481833   45725.478963       28.549067   5171.981071  4.851937e+05   \n",
      "min      1.000000   21609.000000      -67.300000 -13038.000000  3.717000e+03   \n",
      "25%    125.750000   29003.000000       -5.900000    556.950000  3.658850e+04   \n",
      "50%    250.500000   40236.000000        0.550000   1761.600000  7.326150e+04   \n",
      "75%    375.250000   63926.750000        6.975000   3954.000000  1.805640e+05   \n",
      "max    500.000000  485873.000000      442.300000  45687.000000  3.473238e+06   \n",
      "\n",
      "       profit_change  previous_rank  years_on_global_500_list     employees  \\\n",
      "count     436.000000     500.000000                500.000000  5.000000e+02   \n",
      "mean       24.152752     222.134000                 15.036000  1.339983e+05   \n",
      "std       437.509566     146.941961                  7.932752  1.700878e+05   \n",
      "min      -793.700000       0.000000                  1.000000  3.280000e+02   \n",
      "25%       -22.775000      92.750000                  7.000000  4.293250e+04   \n",
      "50%        -0.350000     219.500000                 17.000000  9.291050e+04   \n",
      "75%        17.700000     347.250000                 23.000000  1.689172e+05   \n",
      "max      8909.500000     500.000000                 23.000000  2.300000e+06   \n",
      "\n",
      "       total_stockholder_equity  \n",
      "count                500.000000  \n",
      "mean               30628.076000  \n",
      "std                43642.576833  \n",
      "min               -59909.000000  \n",
      "25%                 7553.750000  \n",
      "50%                15809.500000  \n",
      "75%                37828.500000  \n",
      "max               301893.000000  \n"
     ]
    }
   ],
   "source": [
    "# Dataframe describe Method\n",
    "f500_desc = f500.describe()\n",
    "\n",
    "print(f500_desc)\n"
   ]
  },
  {
   "cell_type": "code",
   "execution_count": 9,
   "metadata": {},
   "outputs": [],
   "source": [
    "# Assignment with pandas\n",
    "# usa-se loc para expressas ambos os eixos\n",
    "# DOWN CHEMICAL = ROW\n",
    "# CEO = COLUMN\n",
    "\n",
    "f500.loc['Dow Chemical', 'ceo'] = 'Jim Fitterling'"
   ]
  },
  {
   "cell_type": "code",
   "execution_count": 10,
   "metadata": {},
   "outputs": [
    {
     "name": "stdout",
     "output_type": "stream",
     "text": [
      "company\n",
      "Toyota Motor                                 Japan\n",
      "Volkswagen                                 Germany\n",
      "Daimler                                    Germany\n",
      "General Motors                                 USA\n",
      "Ford Motor                                     USA\n",
      "Honda Motor                                  Japan\n",
      "SAIC Motor                                   China\n",
      "Nissan Motor                                 Japan\n",
      "BMW Group                                  Germany\n",
      "Dongfeng Motor                               China\n",
      "Robert Bosch                               Germany\n",
      "Hyundai Motor                          South Korea\n",
      "China FAW Group                              China\n",
      "Beijing Automotive Group                     China\n",
      "Peugeot                                     France\n",
      "Renault                                     France\n",
      "Kia Motors                             South Korea\n",
      "Continental                                Germany\n",
      "Denso                                        Japan\n",
      "Guangzhou Automobile Industry Group          China\n",
      "Tata Motors                                  India\n",
      "ZF Friedrichshafen                         Germany\n",
      "Jardine Matheson                             China\n",
      "Magna International                         Canada\n",
      "Volvo                                       Sweden\n",
      "Hyundai Mobis                          South Korea\n",
      "Aisin Seiki                                  Japan\n",
      "Zhejiang Geely Holding Group                 China\n",
      "Subaru                                       Japan\n",
      "Bridgestone                                  Japan\n",
      "Mazda Motor                                  Japan\n",
      "Suzuki Motor                                 Japan\n",
      "Sumitomo Electric Industries                 Japan\n",
      "Michelin                                    France\n",
      "Name: country, dtype: object\n"
     ]
    }
   ],
   "source": [
    "# Using Boolean Indexing with pandas Objects\n",
    "\n",
    "motor_bool = f500['industry'] == 'Motor Vehicles and Parts'\n",
    "motor_countries = f500.loc[motor_bool, 'country']\n",
    "print(motor_countries)"
   ]
  },
  {
   "cell_type": "code",
   "execution_count": 11,
   "metadata": {},
   "outputs": [
    {
     "name": "stdout",
     "output_type": "stream",
     "text": [
      "previous_rank\n",
      "NaN      33\n",
      "1.0       1\n",
      "302.0     1\n",
      "334.0     1\n",
      "325.0     1\n",
      "Name: count, dtype: int64\n"
     ]
    }
   ],
   "source": [
    "#  Using Boolean Arrays to Assign Values\n",
    "\n",
    "import numpy as np\n",
    "\n",
    "prev_rank_before = f500[\"previous_rank\"].value_counts(dropna=False).head()\n",
    "f500.loc[f500['previous_rank'] == 0, 'previous_rank'] = np.nan\n",
    "prev_rank_after = f500[\"previous_rank\"].value_counts(dropna=False).head()\n",
    "print(prev_rank_after)"
   ]
  },
  {
   "cell_type": "code",
   "execution_count": 19,
   "metadata": {},
   "outputs": [
    {
     "name": "stdout",
     "output_type": "stream",
     "text": [
      "-199.0\n",
      "226.0\n",
      "count    467.000000\n",
      "mean      -3.533191\n",
      "std       44.293603\n",
      "min     -199.000000\n",
      "25%      -21.000000\n",
      "50%       -2.000000\n",
      "75%       10.000000\n",
      "max      226.000000\n",
      "Name: rank_change, dtype: float64\n"
     ]
    }
   ],
   "source": [
    "# Creating New Columns\n",
    "import numpy as np\n",
    "f500['rank_change'] = f500['previous_rank'] - f500['rank']\n",
    "rank_change_desc = f500['rank_change'].describe()\n",
    "print(rank_change.min())\n",
    "print(rank_change.max())\n",
    "print(rank_change_desc)"
   ]
  },
  {
   "cell_type": "code",
   "execution_count": 35,
   "metadata": {},
   "outputs": [
    {
     "name": "stdout",
     "output_type": "stream",
     "text": [
      "industry\n",
      "Banks: Commercial and Savings               8\n",
      "Insurance: Property and Casualty (Stock)    7\n",
      "Name: count, dtype: int64\n",
      "sector\n",
      "Financials    25\n",
      "Energy        22\n",
      "Name: count, dtype: int64\n"
     ]
    }
   ],
   "source": [
    "# Challenge: Top Performers by Country\n",
    "\n",
    "industry_usa = f500.loc[f500['country'] == 'USA', 'industry'].value_counts().head(2)\n",
    "sector_china = f500.loc[f500['country'] == 'China', 'sector'].value_counts().head(3)\n",
    "\n",
    "print(industry_usa)\n",
    "print(sector_china)"
   ]
  },
  {
   "cell_type": "code",
   "execution_count": 24,
   "metadata": {},
   "outputs": [
    {
     "data": {
      "text/html": [
       "<div>\n",
       "<style scoped>\n",
       "    .dataframe tbody tr th:only-of-type {\n",
       "        vertical-align: middle;\n",
       "    }\n",
       "\n",
       "    .dataframe tbody tr th {\n",
       "        vertical-align: top;\n",
       "    }\n",
       "\n",
       "    .dataframe thead th {\n",
       "        text-align: right;\n",
       "    }\n",
       "</style>\n",
       "<table border=\"1\" class=\"dataframe\">\n",
       "  <thead>\n",
       "    <tr style=\"text-align: right;\">\n",
       "      <th></th>\n",
       "      <th>rank</th>\n",
       "      <th>revenues</th>\n",
       "      <th>revenue_change</th>\n",
       "      <th>profits</th>\n",
       "      <th>assets</th>\n",
       "      <th>profit_change</th>\n",
       "      <th>ceo</th>\n",
       "      <th>industry</th>\n",
       "      <th>sector</th>\n",
       "      <th>previous_rank</th>\n",
       "      <th>country</th>\n",
       "      <th>hq_location</th>\n",
       "      <th>website</th>\n",
       "      <th>years_on_global_500_list</th>\n",
       "      <th>employees</th>\n",
       "      <th>total_stockholder_equity</th>\n",
       "      <th>rank_change</th>\n",
       "    </tr>\n",
       "    <tr>\n",
       "      <th>company</th>\n",
       "      <th></th>\n",
       "      <th></th>\n",
       "      <th></th>\n",
       "      <th></th>\n",
       "      <th></th>\n",
       "      <th></th>\n",
       "      <th></th>\n",
       "      <th></th>\n",
       "      <th></th>\n",
       "      <th></th>\n",
       "      <th></th>\n",
       "      <th></th>\n",
       "      <th></th>\n",
       "      <th></th>\n",
       "      <th></th>\n",
       "      <th></th>\n",
       "      <th></th>\n",
       "    </tr>\n",
       "  </thead>\n",
       "  <tbody>\n",
       "    <tr>\n",
       "      <th>Walmart</th>\n",
       "      <td>1</td>\n",
       "      <td>485873</td>\n",
       "      <td>0.8</td>\n",
       "      <td>13643.0</td>\n",
       "      <td>198825</td>\n",
       "      <td>-7.2</td>\n",
       "      <td>C. Douglas McMillon</td>\n",
       "      <td>General Merchandisers</td>\n",
       "      <td>Retailing</td>\n",
       "      <td>1.0</td>\n",
       "      <td>USA</td>\n",
       "      <td>Bentonville, AR</td>\n",
       "      <td>http://www.walmart.com</td>\n",
       "      <td>23</td>\n",
       "      <td>2300000</td>\n",
       "      <td>77798</td>\n",
       "      <td>0.0</td>\n",
       "    </tr>\n",
       "    <tr>\n",
       "      <th>State Grid</th>\n",
       "      <td>2</td>\n",
       "      <td>315199</td>\n",
       "      <td>-4.4</td>\n",
       "      <td>9571.3</td>\n",
       "      <td>489838</td>\n",
       "      <td>-6.2</td>\n",
       "      <td>Kou Wei</td>\n",
       "      <td>Utilities</td>\n",
       "      <td>Energy</td>\n",
       "      <td>2.0</td>\n",
       "      <td>China</td>\n",
       "      <td>Beijing, China</td>\n",
       "      <td>http://www.sgcc.com.cn</td>\n",
       "      <td>17</td>\n",
       "      <td>926067</td>\n",
       "      <td>209456</td>\n",
       "      <td>0.0</td>\n",
       "    </tr>\n",
       "    <tr>\n",
       "      <th>Sinopec Group</th>\n",
       "      <td>3</td>\n",
       "      <td>267518</td>\n",
       "      <td>-9.1</td>\n",
       "      <td>1257.9</td>\n",
       "      <td>310726</td>\n",
       "      <td>-65.0</td>\n",
       "      <td>Wang Yupu</td>\n",
       "      <td>Petroleum Refining</td>\n",
       "      <td>Energy</td>\n",
       "      <td>4.0</td>\n",
       "      <td>China</td>\n",
       "      <td>Beijing, China</td>\n",
       "      <td>http://www.sinopec.com</td>\n",
       "      <td>19</td>\n",
       "      <td>713288</td>\n",
       "      <td>106523</td>\n",
       "      <td>1.0</td>\n",
       "    </tr>\n",
       "    <tr>\n",
       "      <th>China National Petroleum</th>\n",
       "      <td>4</td>\n",
       "      <td>262573</td>\n",
       "      <td>-12.3</td>\n",
       "      <td>1867.5</td>\n",
       "      <td>585619</td>\n",
       "      <td>-73.7</td>\n",
       "      <td>Zhang Jianhua</td>\n",
       "      <td>Petroleum Refining</td>\n",
       "      <td>Energy</td>\n",
       "      <td>3.0</td>\n",
       "      <td>China</td>\n",
       "      <td>Beijing, China</td>\n",
       "      <td>http://www.cnpc.com.cn</td>\n",
       "      <td>17</td>\n",
       "      <td>1512048</td>\n",
       "      <td>301893</td>\n",
       "      <td>-1.0</td>\n",
       "    </tr>\n",
       "    <tr>\n",
       "      <th>Toyota Motor</th>\n",
       "      <td>5</td>\n",
       "      <td>254694</td>\n",
       "      <td>7.7</td>\n",
       "      <td>16899.3</td>\n",
       "      <td>437575</td>\n",
       "      <td>-12.3</td>\n",
       "      <td>Akio Toyoda</td>\n",
       "      <td>Motor Vehicles and Parts</td>\n",
       "      <td>Motor Vehicles &amp; Parts</td>\n",
       "      <td>8.0</td>\n",
       "      <td>Japan</td>\n",
       "      <td>Toyota, Japan</td>\n",
       "      <td>http://www.toyota-global.com</td>\n",
       "      <td>23</td>\n",
       "      <td>364445</td>\n",
       "      <td>157210</td>\n",
       "      <td>3.0</td>\n",
       "    </tr>\n",
       "  </tbody>\n",
       "</table>\n",
       "</div>"
      ],
      "text/plain": [
       "                          rank  revenues  revenue_change  profits  assets  \\\n",
       "company                                                                     \n",
       "Walmart                      1    485873             0.8  13643.0  198825   \n",
       "State Grid                   2    315199            -4.4   9571.3  489838   \n",
       "Sinopec Group                3    267518            -9.1   1257.9  310726   \n",
       "China National Petroleum     4    262573           -12.3   1867.5  585619   \n",
       "Toyota Motor                 5    254694             7.7  16899.3  437575   \n",
       "\n",
       "                          profit_change                  ceo  \\\n",
       "company                                                        \n",
       "Walmart                            -7.2  C. Douglas McMillon   \n",
       "State Grid                         -6.2              Kou Wei   \n",
       "Sinopec Group                     -65.0            Wang Yupu   \n",
       "China National Petroleum          -73.7        Zhang Jianhua   \n",
       "Toyota Motor                      -12.3          Akio Toyoda   \n",
       "\n",
       "                                          industry                  sector  \\\n",
       "company                                                                      \n",
       "Walmart                      General Merchandisers               Retailing   \n",
       "State Grid                               Utilities                  Energy   \n",
       "Sinopec Group                   Petroleum Refining                  Energy   \n",
       "China National Petroleum        Petroleum Refining                  Energy   \n",
       "Toyota Motor              Motor Vehicles and Parts  Motor Vehicles & Parts   \n",
       "\n",
       "                          previous_rank country      hq_location  \\\n",
       "company                                                            \n",
       "Walmart                             1.0     USA  Bentonville, AR   \n",
       "State Grid                          2.0   China   Beijing, China   \n",
       "Sinopec Group                       4.0   China   Beijing, China   \n",
       "China National Petroleum            3.0   China   Beijing, China   \n",
       "Toyota Motor                        8.0   Japan    Toyota, Japan   \n",
       "\n",
       "                                               website  \\\n",
       "company                                                  \n",
       "Walmart                         http://www.walmart.com   \n",
       "State Grid                      http://www.sgcc.com.cn   \n",
       "Sinopec Group                   http://www.sinopec.com   \n",
       "China National Petroleum        http://www.cnpc.com.cn   \n",
       "Toyota Motor              http://www.toyota-global.com   \n",
       "\n",
       "                          years_on_global_500_list  employees  \\\n",
       "company                                                         \n",
       "Walmart                                         23    2300000   \n",
       "State Grid                                      17     926067   \n",
       "Sinopec Group                                   19     713288   \n",
       "China National Petroleum                        17    1512048   \n",
       "Toyota Motor                                    23     364445   \n",
       "\n",
       "                          total_stockholder_equity  rank_change  \n",
       "company                                                          \n",
       "Walmart                                      77798          0.0  \n",
       "State Grid                                  209456          0.0  \n",
       "Sinopec Group                               106523          1.0  \n",
       "China National Petroleum                    301893         -1.0  \n",
       "Toyota Motor                                157210          3.0  "
      ]
     },
     "execution_count": 24,
     "metadata": {},
     "output_type": "execute_result"
    }
   ],
   "source": [
    "f500.head()"
   ]
  }
 ],
 "metadata": {
  "kernelspec": {
   "display_name": "base",
   "language": "python",
   "name": "python3"
  },
  "language_info": {
   "codemirror_mode": {
    "name": "ipython",
    "version": 3
   },
   "file_extension": ".py",
   "mimetype": "text/x-python",
   "name": "python",
   "nbconvert_exporter": "python",
   "pygments_lexer": "ipython3",
   "version": "3.11.5"
  }
 },
 "nbformat": 4,
 "nbformat_minor": 2
}
