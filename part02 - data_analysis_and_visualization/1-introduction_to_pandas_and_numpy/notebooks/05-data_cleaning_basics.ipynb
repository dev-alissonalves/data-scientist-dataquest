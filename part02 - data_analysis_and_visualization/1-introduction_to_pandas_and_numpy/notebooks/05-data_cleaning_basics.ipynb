{
 "cells": [
  {
   "cell_type": "code",
   "execution_count": 196,
   "metadata": {},
   "outputs": [
    {
     "data": {
      "text/html": [
       "<div>\n",
       "<style scoped>\n",
       "    .dataframe tbody tr th:only-of-type {\n",
       "        vertical-align: middle;\n",
       "    }\n",
       "\n",
       "    .dataframe tbody tr th {\n",
       "        vertical-align: top;\n",
       "    }\n",
       "\n",
       "    .dataframe thead th {\n",
       "        text-align: right;\n",
       "    }\n",
       "</style>\n",
       "<table border=\"1\" class=\"dataframe\">\n",
       "  <thead>\n",
       "    <tr style=\"text-align: right;\">\n",
       "      <th></th>\n",
       "      <th>Manufacturer</th>\n",
       "      <th>Model Name</th>\n",
       "      <th>Category</th>\n",
       "      <th>Screen Size</th>\n",
       "      <th>Screen</th>\n",
       "      <th>CPU</th>\n",
       "      <th>RAM</th>\n",
       "      <th>Storage</th>\n",
       "      <th>GPU</th>\n",
       "      <th>Operating System</th>\n",
       "      <th>Operating System Version</th>\n",
       "      <th>Weight</th>\n",
       "      <th>Price (Euros)</th>\n",
       "    </tr>\n",
       "  </thead>\n",
       "  <tbody>\n",
       "    <tr>\n",
       "      <th>0</th>\n",
       "      <td>Apple</td>\n",
       "      <td>MacBook Pro</td>\n",
       "      <td>Ultrabook</td>\n",
       "      <td>13.3\"</td>\n",
       "      <td>IPS Panel Retina Display 2560x1600</td>\n",
       "      <td>Intel Core i5 2.3GHz</td>\n",
       "      <td>8GB</td>\n",
       "      <td>128GB SSD</td>\n",
       "      <td>Intel Iris Plus Graphics 640</td>\n",
       "      <td>macOS</td>\n",
       "      <td>NaN</td>\n",
       "      <td>1.37kg</td>\n",
       "      <td>1339,69</td>\n",
       "    </tr>\n",
       "    <tr>\n",
       "      <th>1</th>\n",
       "      <td>Apple</td>\n",
       "      <td>Macbook Air</td>\n",
       "      <td>Ultrabook</td>\n",
       "      <td>13.3\"</td>\n",
       "      <td>1440x900</td>\n",
       "      <td>Intel Core i5 1.8GHz</td>\n",
       "      <td>8GB</td>\n",
       "      <td>128GB Flash Storage</td>\n",
       "      <td>Intel HD Graphics 6000</td>\n",
       "      <td>macOS</td>\n",
       "      <td>NaN</td>\n",
       "      <td>1.34kg</td>\n",
       "      <td>898,94</td>\n",
       "    </tr>\n",
       "    <tr>\n",
       "      <th>2</th>\n",
       "      <td>HP</td>\n",
       "      <td>250 G6</td>\n",
       "      <td>Notebook</td>\n",
       "      <td>15.6\"</td>\n",
       "      <td>Full HD 1920x1080</td>\n",
       "      <td>Intel Core i5 7200U 2.5GHz</td>\n",
       "      <td>8GB</td>\n",
       "      <td>256GB SSD</td>\n",
       "      <td>Intel HD Graphics 620</td>\n",
       "      <td>No OS</td>\n",
       "      <td>NaN</td>\n",
       "      <td>1.86kg</td>\n",
       "      <td>575,00</td>\n",
       "    </tr>\n",
       "    <tr>\n",
       "      <th>3</th>\n",
       "      <td>Apple</td>\n",
       "      <td>MacBook Pro</td>\n",
       "      <td>Ultrabook</td>\n",
       "      <td>15.4\"</td>\n",
       "      <td>IPS Panel Retina Display 2880x1800</td>\n",
       "      <td>Intel Core i7 2.7GHz</td>\n",
       "      <td>16GB</td>\n",
       "      <td>512GB SSD</td>\n",
       "      <td>AMD Radeon Pro 455</td>\n",
       "      <td>macOS</td>\n",
       "      <td>NaN</td>\n",
       "      <td>1.83kg</td>\n",
       "      <td>2537,45</td>\n",
       "    </tr>\n",
       "    <tr>\n",
       "      <th>4</th>\n",
       "      <td>Apple</td>\n",
       "      <td>MacBook Pro</td>\n",
       "      <td>Ultrabook</td>\n",
       "      <td>13.3\"</td>\n",
       "      <td>IPS Panel Retina Display 2560x1600</td>\n",
       "      <td>Intel Core i5 3.1GHz</td>\n",
       "      <td>8GB</td>\n",
       "      <td>256GB SSD</td>\n",
       "      <td>Intel Iris Plus Graphics 650</td>\n",
       "      <td>macOS</td>\n",
       "      <td>NaN</td>\n",
       "      <td>1.37kg</td>\n",
       "      <td>1803,60</td>\n",
       "    </tr>\n",
       "  </tbody>\n",
       "</table>\n",
       "</div>"
      ],
      "text/plain": [
       "  Manufacturer   Model Name   Category Screen Size  \\\n",
       "0        Apple  MacBook Pro  Ultrabook       13.3\"   \n",
       "1        Apple  Macbook Air  Ultrabook       13.3\"   \n",
       "2           HP       250 G6   Notebook       15.6\"   \n",
       "3        Apple  MacBook Pro  Ultrabook       15.4\"   \n",
       "4        Apple  MacBook Pro  Ultrabook       13.3\"   \n",
       "\n",
       "                               Screen                         CPU   RAM  \\\n",
       "0  IPS Panel Retina Display 2560x1600        Intel Core i5 2.3GHz   8GB   \n",
       "1                            1440x900        Intel Core i5 1.8GHz   8GB   \n",
       "2                   Full HD 1920x1080  Intel Core i5 7200U 2.5GHz   8GB   \n",
       "3  IPS Panel Retina Display 2880x1800        Intel Core i7 2.7GHz  16GB   \n",
       "4  IPS Panel Retina Display 2560x1600        Intel Core i5 3.1GHz   8GB   \n",
       "\n",
       "               Storage                           GPU Operating System  \\\n",
       "0            128GB SSD  Intel Iris Plus Graphics 640            macOS   \n",
       "1  128GB Flash Storage        Intel HD Graphics 6000            macOS   \n",
       "2            256GB SSD         Intel HD Graphics 620            No OS   \n",
       "3            512GB SSD            AMD Radeon Pro 455            macOS   \n",
       "4            256GB SSD  Intel Iris Plus Graphics 650            macOS   \n",
       "\n",
       "  Operating System Version  Weight Price (Euros)  \n",
       "0                      NaN  1.37kg       1339,69  \n",
       "1                      NaN  1.34kg        898,94  \n",
       "2                      NaN  1.86kg        575,00  \n",
       "3                      NaN  1.83kg       2537,45  \n",
       "4                      NaN  1.37kg       1803,60  "
      ]
     },
     "execution_count": 196,
     "metadata": {},
     "output_type": "execute_result"
    }
   ],
   "source": [
    "# Reading CSV Files with Encodings\n",
    "import pandas as pd\n",
    "laptops = pd.read_csv(\"../dataset/laptops.csv\", encoding = \"latin1\")\n",
    "#print(laptops)\n",
    "laptops.head(5)"
   ]
  },
  {
   "cell_type": "code",
   "execution_count": 197,
   "metadata": {},
   "outputs": [
    {
     "name": "stdout",
     "output_type": "stream",
     "text": [
      "Index(['Manufacturer', 'Model Name', 'Category', 'Screen Size', 'Screen',\n",
      "       'CPU', 'RAM', ' Storage', 'GPU', 'Operating System',\n",
      "       'Operating System Version', 'Weight', 'Price (Euros)'],\n",
      "      dtype='object')\n",
      "['Manufacturer', 'Model Name', 'Category', 'Screen Size', 'Screen', 'CPU', 'RAM', 'Storage', 'GPU', 'Operating System', 'Operating System Version', 'Weight', 'Price (Euros)']\n"
     ]
    }
   ],
   "source": [
    "# Cleaning columns Names\n",
    "\n",
    "new_columns = []\n",
    "\n",
    "for name in laptops.columns:\n",
    "    new_name = name.strip()\n",
    "    new_columns.append(new_name)\n",
    "\n",
    "print(laptops.columns)\n",
    "print(new_columns)\n",
    "laptops.columns = new_columns\n"
   ]
  },
  {
   "cell_type": "code",
   "execution_count": 198,
   "metadata": {},
   "outputs": [
    {
     "name": "stdout",
     "output_type": "stream",
     "text": [
      "Index(['manufacturer', 'model_name', 'category', 'screen_size', 'screen',\n",
      "       'cpu', 'ram', 'storage', 'gpu', 'os', 'os_version', 'weight',\n",
      "       'price_euros'],\n",
      "      dtype='object')\n"
     ]
    }
   ],
   "source": [
    "# Cleaning columns Names (continued)\n",
    "\n",
    "def clean_col(col):\n",
    "    if col == 'Operating System':\n",
    "        col = 'os'\n",
    "    if col == 'Operating System Version':\n",
    "        col = 'os_version'\n",
    "    col = col.strip()\n",
    "    col = col.replace(' ', '_')\n",
    "    col = col.replace(\"(\",\"\")\n",
    "    col = col.replace(\")\",\"\")\n",
    "    col = col.lower()\n",
    "    return col\n",
    "\n",
    "new_columns = []\n",
    "for c in laptops.columns:\n",
    "    clean_c = clean_col(c)\n",
    "    new_columns.append(clean_c)\n",
    "\n",
    "laptops.columns = new_columns\n",
    "print(laptops.columns)"
   ]
  },
  {
   "cell_type": "code",
   "execution_count": 199,
   "metadata": {},
   "outputs": [
    {
     "name": "stdout",
     "output_type": "stream",
     "text": [
      "['13.3\"' '15.6\"' '15.4\"' '14.0\"' '12.0\"' '11.6\"' '17.3\"' '10.1\"' '13.5\"'\n",
      " '12.5\"' '13.0\"' '18.4\"' '13.9\"' '12.3\"' '17.0\"' '15.0\"' '14.1\"' '11.3\"']\n",
      "['8GB' '16GB' '4GB' '2GB' '12GB' '6GB' '32GB' '24GB' '64GB']\n"
     ]
    }
   ],
   "source": [
    "# Converting String Columns to Numeric\n",
    "print(laptops[\"screen_size\"].unique())\n",
    "\n",
    "unique_ram = laptops[\"ram\"].unique()\n",
    "print(unique_ram)"
   ]
  },
  {
   "attachments": {
    "image.png": {
     "image/png": "[encoded data removed]"
    }
   },
   "cell_type": "markdown",
   "metadata": {},
   "source": [
    "![image.png](attachment:image.png)"
   ]
  },
  {
   "cell_type": "code",
   "execution_count": 200,
   "metadata": {},
   "outputs": [
    {
     "name": "stdout",
     "output_type": "stream",
     "text": [
      "['13.3' '15.6' '15.4' '14.0' '12.0' '11.6' '17.3' '10.1' '13.5' '12.5'\n",
      " '13.0' '18.4' '13.9' '12.3' '17.0' '15.0' '14.1' '11.3']\n",
      "`screen_size` dtype: object\n",
      "['8' '16' '4' '2' '12' '6' '32' '24' '64']\n",
      "screen_size dtype: object\n"
     ]
    }
   ],
   "source": [
    "# Removing Non-Digit Characters\n",
    "\n",
    "laptops[\"screen_size\"] = laptops[\"screen_size\"].str.replace('\"', '')\n",
    "print(laptops[\"screen_size\"].unique())\n",
    "print(\"`screen_size` dtype:\", laptops[\"screen_size\"].dtype)\n",
    "\n",
    "laptops[\"ram\"] = laptops[\"ram\"].str.replace('GB', '')\n",
    "print(laptops[\"ram\"].unique())\n",
    "print(\"screen_size dtype:\", laptops[\"ram\"].dtype)"
   ]
  },
  {
   "cell_type": "code",
   "execution_count": 201,
   "metadata": {},
   "outputs": [
    {
     "name": "stdout",
     "output_type": "stream",
     "text": [
      "[13.3 15.6 15.4 14.  12.  11.6 17.3 10.1 13.5 12.5 13.  18.4 13.9 12.3\n",
      " 17.  15.  14.1 11.3]\n",
      "`screen_size` dtype: float64\n",
      "[ 8. 16.  4.  2. 12.  6. 32. 24. 64.]\n",
      "`ram` dtype: float64\n"
     ]
    }
   ],
   "source": [
    "# Converting Columns to Numeric dtypes\n",
    "laptops[\"screen_size\"] = laptops[\"screen_size\"].astype(float)\n",
    "print(laptops[\"screen_size\"].unique())\n",
    "print(\"`screen_size` dtype:\", laptops[\"screen_size\"].dtype)\n",
    "\n",
    "laptops[\"ram\"] = laptops[\"ram\"].astype(float)\n",
    "print(laptops[\"ram\"].unique())\n",
    "print(\"`ram` dtype:\", laptops[\"ram\"].dtype)\n"
   ]
  },
  {
   "cell_type": "code",
   "execution_count": 202,
   "metadata": {},
   "outputs": [
    {
     "name": "stdout",
     "output_type": "stream",
     "text": [
      "count    1303.000000\n",
      "mean        8.382195\n",
      "std         5.084665\n",
      "min         2.000000\n",
      "25%         4.000000\n",
      "50%         8.000000\n",
      "75%         8.000000\n",
      "max        64.000000\n",
      "Name: ram_gb, dtype: float64\n"
     ]
    }
   ],
   "source": [
    "# Renaming Columns\n",
    "\n",
    "# O implace true, garante que a mudança seja atrelada ao DataFrame original\n",
    "laptops.rename({\"screen_size\": \"screen_size_inches\"}, axis=1, inplace = True)\n",
    "laptops.rename({\"ram\": \"ram_gb\"}, axis=1, inplace = True)\n",
    "ram_gb_desc = laptops['ram_gb'].describe()\n",
    "print(ram_gb_desc)\n"
   ]
  },
  {
   "cell_type": "code",
   "execution_count": 203,
   "metadata": {},
   "outputs": [
    {
     "name": "stdout",
     "output_type": "stream",
     "text": [
      "cpu_manufacturer\n",
      "Intel      1240\n",
      "AMD          62\n",
      "Samsung       1\n",
      "Name: count, dtype: int64\n",
      "gpu_manufacturer\n",
      "Intel     722\n",
      "Nvidia    400\n",
      "AMD       180\n",
      "ARM         1\n",
      "Name: count, dtype: int64\n"
     ]
    }
   ],
   "source": [
    "# Extracting Values from Strings\n",
    "gpu_split = laptops[\"gpu\"].str.split()\n",
    "laptops['gpu_manufacturer'] = gpu_split.str[0]\n",
    "gpu_manufacturer_counts = laptops['gpu_manufacturer'].value_counts()\n",
    "\n",
    "cpu_split = laptops[\"cpu\"].str.split()\n",
    "laptops['cpu_manufacturer'] = cpu_split.str[0]\n",
    "cpu_manufacturer_counts = laptops['cpu_manufacturer'].value_counts()\n",
    "\n",
    "print(cpu_manufacturer_counts)\n",
    "print(gpu_manufacturer_counts)\n"
   ]
  },
  {
   "cell_type": "code",
   "execution_count": 204,
   "metadata": {},
   "outputs": [
    {
     "name": "stdout",
     "output_type": "stream",
     "text": [
      "['macOS' 'No OS' 'Windows' 'Mac OS' 'Linux' 'Android' 'Chrome OS']\n",
      "os\n",
      "Windows      1125\n",
      "No OS          66\n",
      "Linux          62\n",
      "Chrome OS      27\n",
      "macOS          21\n",
      "Android         2\n",
      "Name: count, dtype: int64\n"
     ]
    }
   ],
   "source": [
    "# Correcting Bad Values\n",
    "print(laptops[\"os\"].unique())\n",
    "\n",
    "mapping_dict = {'macOS':'macOS', 'No OS':'No OS', 'Windows':'Windows', 'Mac OS': 'macOS', 'Linux':'Linux', 'Android':'Android', 'Chrome OS':'Chrome OS'}\n",
    "\n",
    "laptops['os'] = laptops[\"os\"].map(mapping_dict)\n",
    "print(laptops['os'].value_counts())\n"
   ]
  },
  {
   "cell_type": "code",
   "execution_count": 205,
   "metadata": {},
   "outputs": [
    {
     "name": "stdout",
     "output_type": "stream",
     "text": [
      "manufacturer            0\n",
      "model_name              0\n",
      "category                0\n",
      "screen_size_inches      0\n",
      "screen                  0\n",
      "cpu                     0\n",
      "ram_gb                  0\n",
      "storage                 0\n",
      "gpu                     0\n",
      "os                      0\n",
      "os_version            170\n",
      "weight                  0\n",
      "price_euros             0\n",
      "gpu_manufacturer        0\n",
      "cpu_manufacturer        0\n",
      "dtype: int64\n"
     ]
    }
   ],
   "source": [
    "# Dropping Missing Values\n",
    "print(laptops.isnull().sum())\n",
    "\n",
    "laptops_no_null_rows = laptops.dropna(axis = 0)\n",
    "laptops_no_null_cols = laptops.dropna(axis = 1)"
   ]
  },
  {
   "cell_type": "code",
   "execution_count": 206,
   "metadata": {},
   "outputs": [
    {
     "name": "stdout",
     "output_type": "stream",
     "text": [
      "os_version\n",
      "10      1072\n",
      "NaN      170\n",
      "7         45\n",
      "X          8\n",
      "10 S       8\n",
      "Name: count, dtype: int64\n",
      "os\n",
      "No OS        66\n",
      "Linux        62\n",
      "Chrome OS    27\n",
      "macOS        13\n",
      "Android       2\n",
      "Name: count, dtype: int64\n"
     ]
    }
   ],
   "source": [
    "# Filling Missing Values\n",
    "print(laptops[\"os_version\"].value_counts(dropna=False))\n",
    "\n",
    "os_with_null_v = laptops.loc[laptops[\"os_version\"].isnull(), \"os\"]\n",
    "print(os_with_null_v.value_counts())\n",
    "\n",
    "laptops.loc[laptops[\"os\"] == \"macOS\", \"os_version\"] = \"X\"\n",
    "value_counts_before = laptops.loc[laptops[\"os_version\"].isnull(), \"os\"].value_counts()\n",
    "laptops.loc[laptops['os'] == 'No OS', 'os_version'] == 'Not Applicable'\n",
    "value_counts_after = laptops.loc[laptops[\"os_version\"].isnull(), \"os\"].value_counts()"
   ]
  },
  {
   "cell_type": "code",
   "execution_count": 207,
   "metadata": {},
   "outputs": [],
   "source": [
    "# Challenge: Clean a String Column\n",
    "\n",
    "laptops['weight'] =  laptops['weight'].str.replace('kgs', '').str.replace('kg', '').astype(float)\n",
    "laptops.rename({\"weight\": \"weight_kg\"}, axis=1, inplace = True)\n",
    "laptops.to_csv('laptops_cleaned.csv', index=False)"
   ]
  }
 ],
 "metadata": {
  "kernelspec": {
   "display_name": "base",
   "language": "python",
   "name": "python3"
  },
  "language_info": {
   "codemirror_mode": {
    "name": "ipython",
    "version": 3
   },
   "file_extension": ".py",
   "mimetype": "text/x-python",
   "name": "python",
   "nbconvert_exporter": "python",
   "pygments_lexer": "ipython3",
   "version": "3.11.5"
  }
 },
 "nbformat": 4,
 "nbformat_minor": 2
}
