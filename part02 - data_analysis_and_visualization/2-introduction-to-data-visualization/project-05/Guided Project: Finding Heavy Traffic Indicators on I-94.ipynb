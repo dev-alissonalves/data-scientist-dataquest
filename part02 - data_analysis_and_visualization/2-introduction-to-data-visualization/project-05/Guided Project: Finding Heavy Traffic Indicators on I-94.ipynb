{
 "cells": [
  {
   "cell_type": "code",
   "execution_count": 2,
   "metadata": {},
   "outputs": [
    {
     "name": "stdout",
     "output_type": "stream",
     "text": [
      "<class 'pandas.core.frame.DataFrame'>\n",
      "RangeIndex: 48204 entries, 0 to 48203\n",
      "Data columns (total 9 columns):\n",
      " #   Column               Non-Null Count  Dtype  \n",
      "---  ------               --------------  -----  \n",
      " 0   holiday              61 non-null     object \n",
      " 1   temp                 48204 non-null  float64\n",
      " 2   rain_1h              48204 non-null  float64\n",
      " 3   snow_1h              48204 non-null  float64\n",
      " 4   clouds_all           48204 non-null  int64  \n",
      " 5   weather_main         48204 non-null  object \n",
      " 6   weather_description  48204 non-null  object \n",
      " 7   date_time            48204 non-null  object \n",
      " 8   traffic_volume       48204 non-null  int64  \n",
      "dtypes: float64(3), int64(2), object(4)\n",
      "memory usage: 3.3+ MB\n"
     ]
    }
   ],
   "source": [
    "import pandas as pd\n",
    "df = pd.read_csv('Metro_Interstate_Traffic_Volume.csv')\n",
    "\n",
    "df.info()"
   ]
  }
 ],
 "metadata": {
  "kernelspec": {
   "display_name": "base",
   "language": "python",
   "name": "python3"
  },
  "language_info": {
   "codemirror_mode": {
    "name": "ipython",
    "version": 3
   },
   "file_extension": ".py",
   "mimetype": "text/x-python",
   "name": "python",
   "nbconvert_exporter": "python",
   "pygments_lexer": "ipython3",
   "version": "3.11.5"
  }
 },
 "nbformat": 4,
 "nbformat_minor": 2
}
