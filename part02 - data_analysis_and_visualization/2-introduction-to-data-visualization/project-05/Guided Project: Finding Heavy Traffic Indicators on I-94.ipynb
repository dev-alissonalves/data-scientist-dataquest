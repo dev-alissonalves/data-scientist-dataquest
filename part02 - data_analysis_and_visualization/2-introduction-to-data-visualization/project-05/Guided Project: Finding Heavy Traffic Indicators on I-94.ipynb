{
 "cells": [
  {
   "cell_type": "markdown",
   "metadata": {},
   "source": [
    "# Guided Project: Finding Heavy Traffic Indicators on I-94\n",
    "\n",
    "- O objetivo é analisar um conjunto de dados sobre o tráfego no sentido oeste na rodovia interestadual I-94. Nosso desafio principal nesta análise é determinar alguns indicadores de tráfego intenso na I-94. Esses indicadores podem ser o tipo de clima, a hora do dia, a hora da semana, etc. Por exemplo, podemos descobrir que o trânsito costuma ser mais intenso no verão ou quando neva. \n",
    "\n",
    "### Conjunto de dados de tráfego I-94\n",
    "\n",
    "For more details, check the [dataset data dictionary](https://archive.ics.uci.edu/dataset/492/metro+interstate+traffic+volume)."
   ]
  },
  {
   "cell_type": "code",
   "execution_count": null,
   "metadata": {},
   "outputs": [],
   "source": [
    "import pandas as pd\n",
    "df = pd.read_csv('Metro_Interstate_Traffic_Volume.csv')\n",
    "df.info()"
   ]
  },
  {
   "cell_type": "code",
   "execution_count": null,
   "metadata": {},
   "outputs": [],
   "source": [
    "# Analisando o volume de tráfego\n",
    "\n",
    "import matplotlib.pyplot as plt\n",
    "plt.hist(df['traffic_volume'])\n",
    "plt.show()\n",
    "df['traffic_volume'].describe()"
   ]
  },
  {
   "cell_type": "code",
   "execution_count": null,
   "metadata": {},
   "outputs": [],
   "source": [
    "# Volume de tráfego: dia x noite\n",
    "\n",
    "df['date_time'] = pd.to_datetime(df['date_time'])\n",
    "filter_day = df.copy()[(df['date_time'].dt.hour >= 7) & (df['date_time'].dt.hour < 19)]\n",
    "print(filter_day.shape)\n",
    "filter_night = df.copy()[(df['date_time'].dt.hour >= 19) | (df['date_time'].dt.hour < 7)]\n",
    "print(filter_night.shape)\n",
    "\n",
    "# Para filtrar o período noturno, você está utilizando a condição (df['date_time'].dt.hour >= 19) | (df['date_time'].dt.hour < 7). Aqui, você está usando o operador lógico OR (|) porque o período noturno inclui horas que são maiores ou iguais a 19, bem como horas menores que 7. Usar o operador OR nessa situação garante que qualquer hora após 19h ou qualquer hora anterior a 7h seja considerada como parte do período noturno."
   ]
  },
  {
   "cell_type": "code",
   "execution_count": null,
   "metadata": {},
   "outputs": [],
   "source": [
    "plt.figure(figsize=(11,3.5))\n",
    "\n",
    "plt.subplot(1, 2, 1)\n",
    "plt.hist(filter_day['traffic_volume'])\n",
    "plt.xlim(-100, 7500)\n",
    "plt.ylim(0, 8000)\n",
    "plt.title('Traffic Volume: Day')\n",
    "plt.ylabel('Frequency')\n",
    "plt.xlabel('Traffic Volume')\n",
    "\n",
    "plt.subplot(1, 2, 2)\n",
    "plt.hist(filter_night['traffic_volume'])\n",
    "plt.xlim(-100, 7500)\n",
    "plt.ylim(0, 8000)\n",
    "plt.title('Traffic Volume: Night')\n",
    "plt.ylabel('Frequency')\n",
    "plt.xlabel('Traffic Volume')\n",
    "\n",
    "plt.show()"
   ]
  },
  {
   "cell_type": "code",
   "execution_count": null,
   "metadata": {},
   "outputs": [],
   "source": [
    "filter_day['traffic_volume'].describe()"
   ]
  },
  {
   "cell_type": "code",
   "execution_count": null,
   "metadata": {},
   "outputs": [],
   "source": [
    "filter_night['traffic_volume'].describe()"
   ]
  },
  {
   "cell_type": "code",
   "execution_count": null,
   "metadata": {},
   "outputs": [],
   "source": [
    "# From this cell, if you are using the jupyter extension in vscode, the code may present problems. I suggest running it in Jupyter LAB.\n",
    "\n",
    "filter_day['month'] = filter_day['date_time'].dt.month\n",
    "by_month = filter_day.groupby('month').mean()\n",
    "by_month['traffic_volume'].plot.line()\n",
    "plt.show()"
   ]
  },
  {
   "cell_type": "code",
   "execution_count": null,
   "metadata": {},
   "outputs": [],
   "source": [
    "filter_day['year'] = filter_day['date_time'].dt.year\n",
    "only_july = filter_day[filter_day['month'] == 7]\n",
    "only_july.groupby('year').mean()['traffic_volume'].plot.line()\n",
    "plt.show()"
   ]
  },
  {
   "cell_type": "code",
   "execution_count": null,
   "metadata": {},
   "outputs": [],
   "source": [
    "filter_day['dayofweek'] = filter_day['date_time'].dt.dayofweek\n",
    "by_dayofweek = filter_day.groupby('dayofweek').mean()\n",
    "by_dayofweek['traffic_volume'].plot.line()\n",
    "plt.show()"
   ]
  },
  {
   "cell_type": "code",
   "execution_count": null,
   "metadata": {},
   "outputs": [],
   "source": [
    "filter_day['hour'] = filter_day['date_time'].dt.hour\n",
    "bussiness_days = day.copy()[filter_day['dayofweek'] <= 4] # 4 == Friday\n",
    "weekend = filter_day.copy()[filter_day['dayofweek'] >= 5] # 5 = Saturday\n",
    "by_hour_business = bussiness_days.groupby('hour').mean()\n",
    "by_hour_weekend = weekend.groupby('hour').mean()\n",
    "\n",
    "\n",
    "plt.figure(figsize=(11,3.5))\n",
    "\n",
    "plt.subplot(1, 2, 1)\n",
    "by_hour_business['traffic_volume'].plot.line()\n",
    "plt.xlim(6,20)\n",
    "plt.ylim(1500,6500)\n",
    "plt.title('Traffic Volume By Hour: Monday–Friday')\n",
    "\n",
    "plt.subplot(1, 2, 2)\n",
    "by_hour_weekend['traffic_volume'].plot.line()\n",
    "plt.xlim(6,20)\n",
    "plt.ylim(1500,6500)\n",
    "plt.title('Traffic Volume By Hour: Weekend')\n",
    "\n",
    "plt.show()"
   ]
  },
  {
   "cell_type": "markdown",
   "metadata": {},
   "source": [
    "## Weather Indicators"
   ]
  },
  {
   "cell_type": "code",
   "execution_count": null,
   "metadata": {},
   "outputs": [],
   "source": [
    "filter_day.corr()['traffic_volume']"
   ]
  },
  {
   "cell_type": "code",
   "execution_count": null,
   "metadata": {},
   "outputs": [],
   "source": [
    "filter_day.plot.scatter('traffic_volume', 'temp')\n",
    "plt.ylim(230, 320) # two wrong 0K temperatures mess up the y-axis\n",
    "plt.show()"
   ]
  },
  {
   "cell_type": "code",
   "execution_count": null,
   "metadata": {},
   "outputs": [],
   "source": [
    "by_weather_main = day.groupby('weather_main').mean()\n",
    "by_weather_main['traffic_volume'].plot.barh()\n",
    "plt.show()"
   ]
  },
  {
   "cell_type": "code",
   "execution_count": null,
   "metadata": {},
   "outputs": [],
   "source": [
    "by_weather_description = day.groupby('weather_description').mean()\n",
    "by_weather_description['traffic_volume'].plot.barh(figsize=(5,10))\n",
    "plt.show()"
   ]
  }
 ],
 "metadata": {
  "kernelspec": {
   "display_name": "base",
   "language": "python",
   "name": "python3"
  },
  "language_info": {
   "codemirror_mode": {
    "name": "ipython",
    "version": 3
   },
   "file_extension": ".py",
   "mimetype": "text/x-python",
   "name": "python",
   "nbconvert_exporter": "python",
   "pygments_lexer": "ipython3",
   "version": "3.11.5"
  }
 },
 "nbformat": 4,
 "nbformat_minor": 2
}
