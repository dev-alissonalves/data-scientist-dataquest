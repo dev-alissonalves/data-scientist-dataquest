{
 "cells": [
  {
   "cell_type": "markdown",
   "metadata": {},
   "source": [
    "### Guided Project: Exploring eBay Car Sales Data\n",
    "\n",
    "* Resumo: Neste projeto guiado, trabalharemos com um conjunto de dados de carros usados ​​do eBay Kleinanzeigen , uma seção de classificados do site alemão eBay. O conjunto de dados foi originalmente copiado e carregado no Kaggle pelo usuário orgesleka. Amostramos 50.000 pontos de dados do conjunto de dados completo para garantir que seu código seja executado rapidamente em nosso ambiente hospedado.\n",
    "\n",
    "##### Dicionário de dados para o conjunto de dados:\n",
    "\n",
    "    * dateCrawled- Quando o anúncio foi rastreado pela primeira vez. Todos os valores de campo são retirados desta data.\n",
    "    * name - Nome do carro.\n",
    "    * seller - Se o vendedor é particular ou revendedor.\n",
    "    * offerType - O tipo de listagem.\n",
    "    * price - O preço de venda listado do carro.\n",
    "    * abtest - Se a listagem está incluída em um teste A/B.\n",
    "    * vehicleType - O tipo de veículo.\n",
    "    * yearOfRegistration - O ano em que o automóvel foi registado pela primeira vez.\n",
    "    * gearbox - O tipo de transmissão.\n",
    "    * powerPS - A potência do carro em PS.\n",
    "    * model - O nome do modelo do carro.\n",
    "    * odometer - Quantos quilômetros o carro percorreu.\n",
    "    * monthOfRegistration - O mês em que o carro foi registado pela primeira vez.\n",
    "    * fuelType - Que tipo de combustível o carro utiliza.\n",
    "    * brand - A marca do carro.\n",
    "    * notRepairedDamage - Se o carro apresentar algum dano que ainda não foi reparado.\n",
    "    * dateCreated - A data em que a listagem do eBay foi criada.\n",
    "    * nrOfPictures - O número de fotos no anúncio.\n",
    "    * postalCode - O código postal da localização do veículo.\n",
    "    * lastSeenOnline - Quando o rastreador viu este anúncio on-line pela última vez."
   ]
  },
  {
   "cell_type": "code",
   "execution_count": null,
   "metadata": {},
   "outputs": [],
   "source": [
    "import numpy as np\n",
    "import pandas as pd\n",
    "\n",
    "autos = pd.read_csv('./autos.csv', encoding = 'latin1')"
   ]
  },
  {
   "cell_type": "code",
   "execution_count": null,
   "metadata": {},
   "outputs": [],
   "source": [
    "autos.info()\n",
    "autos.head()"
   ]
  },
  {
   "cell_type": "markdown",
   "metadata": {},
   "source": [
    "##### - OBSERVAÇÕES PRELIMINARES\n",
    "\n",
    "    * Foi possível observar que 5 das 20 colunas possuem dados nulos \n",
    "    * O conjunto de dados contém 20 colunas, a maioria das quais são strings.\n",
    "    * Algumas colunas têm valores nulos, mas nenhuma tem mais de aproximadamente 20% de valores nulos.\n",
    "    * Os nomes das colunas usam camelcase em vez do Snakecase preferido do Python , o que significa que não podemos simplesmente substituir espaços por sublinhados.\n",
    "    * Algumas das colunas possuem tipo string para valores numéricos. Por exemplo: Price $5,000 em autos['price'][0]"
   ]
  },
  {
   "cell_type": "markdown",
   "metadata": {},
   "source": [
    "##### - No script abaixo renomeamos todas as colunas para o padrão snake_case recomendado pela comunidade Python seguindo o padrão PEP8."
   ]
  },
  {
   "cell_type": "code",
   "execution_count": null,
   "metadata": {},
   "outputs": [],
   "source": [
    "columns = ['crawled_date', 'name', 'seller', 'offer_type', 'price', 'abtest',\n",
    "       'type_vehicle', 'registration_year', 'gearbox', 'power_ps', 'model',\n",
    "       'odometer', 'registration_month', 'type_fuel', 'brand',\n",
    "       'unrepaired_damage', 'ad_created', 'nr_pictures', 'postal_code',\n",
    "       'last_seen']\n",
    "\n",
    "autos.columns = columns"
   ]
  },
  {
   "cell_type": "code",
   "execution_count": null,
   "metadata": {},
   "outputs": [],
   "source": [
    "# Initial Exploration and Cleaning\n",
    "\n",
    "autos.describe(include = 'all')\n",
    "# autos['crawled_date'].value_counts()"
   ]
  },
  {
   "cell_type": "code",
   "execution_count": null,
   "metadata": {},
   "outputs": [],
   "source": [
    "autos[\"price\"] = autos[\"price\"].str.replace('$', '')\n",
    "autos[\"price\"] = autos[\"price\"].str.replace(',', '').astype(float)\n",
    "autos[\"odometer\"] = autos[\"odometer\"].str.replace('km', '')\n",
    "autos[\"odometer\"] = autos[\"odometer\"].str.replace(',', '').astype(float)\n",
    "autos.rename(columns = {'odometer' : 'odometer_km'}, inplace = True)"
   ]
  },
  {
   "cell_type": "code",
   "execution_count": 145,
   "metadata": {},
   "outputs": [
    {
     "data": {
      "text/plain": [
       "count    5.000000e+04\n",
       "mean     9.840044e+03\n",
       "std      4.811044e+05\n",
       "min      0.000000e+00\n",
       "25%      1.100000e+03\n",
       "50%      2.950000e+03\n",
       "75%      7.200000e+03\n",
       "max      1.000000e+08\n",
       "Name: price, dtype: float64"
      ]
     },
     "execution_count": 145,
     "metadata": {},
     "output_type": "execute_result"
    }
   ],
   "source": [
    "# Exploring the Odometer and Price Columns\n",
    "autos['price'].describe()"
   ]
  }
 ],
 "metadata": {
  "kernelspec": {
   "display_name": "base",
   "language": "python",
   "name": "python3"
  },
  "language_info": {
   "codemirror_mode": {
    "name": "ipython",
    "version": 3
   },
   "file_extension": ".py",
   "mimetype": "text/x-python",
   "name": "python",
   "nbconvert_exporter": "python",
   "pygments_lexer": "ipython3",
   "version": "3.11.5"
  }
 },
 "nbformat": 4,
 "nbformat_minor": 2
}
