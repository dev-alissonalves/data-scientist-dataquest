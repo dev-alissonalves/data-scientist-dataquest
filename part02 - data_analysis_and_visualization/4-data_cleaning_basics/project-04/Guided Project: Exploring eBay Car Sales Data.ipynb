{
 "cells": [
  {
   "cell_type": "markdown",
   "metadata": {},
   "source": [
    "# Dicionário de dados para o conjunto de dados:\n",
    "\n",
    "* dateCrawled- Quando o anúncio foi rastreado pela primeira vez. \n",
    "* Todos os valores de campo são retirados desta data.\n",
    "* name- Nome do carro.\n",
    "* seller- Se o vendedor é particular ou revendedor.\n",
    "* offerType- O tipo de listagem.\n",
    "* price- O preço de venda listado do carro.\n",
    "* abtest- Se a listagem está incluída em um teste A/B.\n",
    "* vehicleType- O tipo de veículo.\n",
    "* yearOfRegistration- O ano em que o automóvel foi registado pela primeira vez.\n",
    "* gearbox- O tipo de transmissão.\n",
    "* powerPS- A potência do carro em PS.\n",
    "* model- O nome do modelo do carro.\n",
    "* odometer- Quantos quilômetros o carro percorreu.\n",
    "* monthOfRegistration- O mês em que o carro foi registado pela primeira vez.\n",
    "* fuelType- Que tipo de combustível o carro utiliza.\n",
    "* brand- A marca do carro.\n",
    "* notRepairedDamage- Se o carro apresentar algum dano que ainda não foi reparado.\n",
    "* dateCreated- A data em que a listagem do eBay foi criada.\n",
    "* nrOfPictures- O número de fotos no anúncio.\n",
    "* postalCode- O código postal da localização do veículo.\n",
    "* lastSeenOnline- Quando o rastreador viu este anúncio on-line pela última vez."
   ]
  },
  {
   "cell_type": "code",
   "execution_count": null,
   "metadata": {},
   "outputs": [],
   "source": []
  }
 ],
 "metadata": {
  "kernelspec": {
   "display_name": "base",
   "language": "python",
   "name": "python3"
  },
  "language_info": {
   "codemirror_mode": {
    "name": "ipython",
    "version": 3
   },
   "file_extension": ".py",
   "mimetype": "text/x-python",
   "name": "python",
   "nbconvert_exporter": "python",
   "pygments_lexer": "ipython3",
   "version": "3.11.5"
  }
 },
 "nbformat": 4,
 "nbformat_minor": 2
}
