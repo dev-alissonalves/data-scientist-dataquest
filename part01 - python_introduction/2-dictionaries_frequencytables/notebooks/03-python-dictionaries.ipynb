{
 "cells": [
  {
   "cell_type": "code",
   "execution_count": 16,
   "metadata": {},
   "outputs": [
    {
     "name": "stdout",
     "output_type": "stream",
     "text": [
      "dict_keys(['4+', '9+', '12+', '17+'])\n",
      "dict_values([4433, 987, 1155, 622])\n",
      "{'4+': 4433, '9+': 987, '12+': 1155, '17+': 622}\n",
      "987 - 622\n"
     ]
    }
   ],
   "source": [
    "# BASIC PYTHON - DICTIONARYS\n",
    "\n",
    "content_ratings = {'4+': 4433, '9+': 987, '12+': 1155, '17+': 622}\n",
    "print(content_ratings.keys())\n",
    "print(content_ratings.values())\n",
    "print(content_ratings)\n",
    "\n",
    "over_9 = content_ratings['9+']\n",
    "over_17 = content_ratings['17+']\n",
    "\n",
    "print(over_9, '-', over_17)"
   ]
  },
  {
   "cell_type": "code",
   "execution_count": 17,
   "metadata": {},
   "outputs": [
    {
     "name": "stdout",
     "output_type": "stream",
     "text": [
      "{'12+': 1155, '17+': 622, '4+': 4433, '9+': 987}\n",
      "1155\n"
     ]
    }
   ],
   "source": [
    "# Alternative Method of Creating a Dictionary\n",
    "\n",
    "content_ratings = {}\n",
    "\n",
    "content_ratings['12+'] = 1155\n",
    "content_ratings['17+'] = 622\n",
    "content_ratings['4+'] = 4433\n",
    "content_ratings['9+'] = 987\n",
    "\n",
    "over_12_n_apps = content_ratings['12+']\n",
    "\n",
    "print(content_ratings)\n",
    "print(over_12_n_apps)"
   ]
  },
  {
   "cell_type": "code",
   "execution_count": null,
   "metadata": {},
   "outputs": [],
   "source": [
    "# Key-Value Pairs\n",
    "\n",
    "d_1 = {'key_1': 'first_value', \n",
    " 'key_2': 2,\n",
    " 'key_3': 3.14,\n",
    " 'key_4': True,\n",
    " 'key_5': [4,2,1],\n",
    " 'key_6': {'inner_key' : 6}\n",
    " }\n",
    "\n"
   ]
  },
  {
   "cell_type": "code",
   "execution_count": 4,
   "metadata": {},
   "outputs": [
    {
     "name": "stdout",
     "output_type": "stream",
     "text": [
      "True\n",
      "False\n",
      "True\n",
      "It exists!\n"
     ]
    }
   ],
   "source": [
    "# Python Dictionaries and Frequency Tables\n",
    "\n",
    "content_ratings = {'4+': 4433, '9+': 987, '12+': 1155, '17+': 622}\n",
    "\n",
    "\n",
    "\n",
    "is_in_dictionary_1 = '9+' in content_ratings\n",
    "is_in_dictionary_2 = '987' in content_ratings\n",
    "\n",
    "if '17+' in content_ratings:\n",
    "    result = 'It exists!'\n",
    "\n",
    "print(is_in_dictionary_1)\n",
    "print(is_in_dictionary_2)\n",
    "print('12+' in content_ratings)\n",
    "print(result)\n"
   ]
  },
  {
   "cell_type": "code",
   "execution_count": 7,
   "metadata": {},
   "outputs": [
    {
     "name": "stdout",
     "output_type": "stream",
     "text": [
      "{'4+': 4433, '12+': 1155, '9+': 987, '17+': 622}\n"
     ]
    }
   ],
   "source": [
    "# Updating Dictionary Values\n",
    "\n",
    "content_ratings = {'4+': 622, '12+': '1155', '9+': 987, '17+': 4433}\n",
    "temp = content_ratings['4+']\n",
    "content_ratings['4+'] = content_ratings['17+']\n",
    "content_ratings['17+'] = temp\n",
    "content_ratings['12+'] = int(content_ratings['12+'])\n",
    "\n",
    "print(content_ratings)"
   ]
  },
  {
   "cell_type": "code",
   "execution_count": 8,
   "metadata": {},
   "outputs": [
    {
     "name": "stdout",
     "output_type": "stream",
     "text": [
      "{'4+': 3, '9+': 2, '12+': 1, '17+': 1}\n"
     ]
    }
   ],
   "source": [
    "# Counting with Dictionaries\n",
    "\n",
    "content_ratings = {'4+': 0, '9+': 0, '12+': 0, '17+': 0}\n",
    "ratings = ['4+', '4+', '4+', '9+', '9+', '12+', '17+']\n",
    "\n",
    "for c_rating in ratings:\n",
    "    if c_rating in content_ratings:\n",
    "        content_ratings[c_rating] += 1\n",
    "\n",
    "print(content_ratings)\n"
   ]
  },
  {
   "cell_type": "code",
   "execution_count": 9,
   "metadata": {},
   "outputs": [
    {
     "name": "stdout",
     "output_type": "stream",
     "text": [
      "{'4+': 4433, '9+': 987, '12+': 1155, '17+': 622}\n"
     ]
    }
   ],
   "source": [
    "# Opening a File\n",
    "from csv import reader\n",
    "opened_file = open('../dataset/AppleStore.csv')\n",
    "read_file = reader(opened_file)\n",
    "apps_data = list(read_file)\n",
    "\n",
    "content_ratings = {'4+': 0, '9+': 0, '12+': 0, '17+': 0}\n",
    "\n",
    "for row in apps_data[1:]:\n",
    "    c_rating = row[10]\n",
    "    if c_rating in content_ratings:\n",
    "        content_ratings[c_rating] += 1\n",
    "\n",
    "print(content_ratings)"
   ]
  },
  {
   "cell_type": "code",
   "execution_count": 13,
   "metadata": {},
   "outputs": [
    {
     "name": "stdout",
     "output_type": "stream",
     "text": [
      "{'4+': 4433, '12+': 1155, '9+': 987, '17+': 622}\n"
     ]
    }
   ],
   "source": [
    "# Finding the Unique Values\n",
    "\n",
    "content_ratings = {}\n",
    "\n",
    "for c_rating in apps_data[1:]:\n",
    "    if c_rating[10] in content_ratings:\n",
    "        content_ratings[c_rating[10]] += 1\n",
    "    else:\n",
    "        content_ratings[c_rating[10]] = 1\n",
    "\n",
    "print(content_ratings)"
   ]
  },
  {
   "cell_type": "code",
   "execution_count": 17,
   "metadata": {},
   "outputs": [
    {
     "name": "stdout",
     "output_type": "stream",
     "text": [
      "{'Social Networking': 167, 'Photo & Video': 349, 'Games': 3862, 'Music': 138, 'Reference': 64, 'Health & Fitness': 180, 'Weather': 72, 'Utilities': 248, 'Travel': 81, 'Shopping': 122, 'News': 75, 'Navigation': 46, 'Lifestyle': 144, 'Entertainment': 535, 'Food & Drink': 63, 'Sports': 114, 'Book': 112, 'Finance': 104, 'Education': 453, 'Productivity': 178, 'Business': 57, 'Catalogs': 10, 'Medical': 23}\n"
     ]
    }
   ],
   "source": [
    "# Proportions and Percentages\n",
    "\n",
    "genre_counting = {}\n",
    "\n",
    "for row in apps_data[1:]:\n",
    "    genre = row[11]\n",
    "    if genre in genre_counting:\n",
    "        genre_counting[genre] += 1\n",
    "    else:\n",
    "        genre_counting[genre] = 1\n",
    "print(genre_counting)"
   ]
  },
  {
   "cell_type": "code",
   "execution_count": 20,
   "metadata": {},
   "outputs": [
    {
     "name": "stdout",
     "output_type": "stream",
     "text": [
      "0.08642489926358204\n",
      "0.9135751007364179\n"
     ]
    }
   ],
   "source": [
    "# Looping over Dictionaries\n",
    "\n",
    "content_ratings = {'4+': 4433, '12+': 1155, '9+': 987, '17+': 622}\n",
    "total_apps = 7197 \n",
    "\n",
    "for c_rating in content_ratings:\n",
    "    content_ratings[c_rating] /= total_apps\n",
    "\n",
    "percentage_17_plus = content_ratings['17+']\n",
    "percentage_15_allowed = content_ratings['4+'] + content_ratings['12+'] + content_ratings['9+']\n",
    "\n",
    "print(percentage_17_plus)\n",
    "print(percentage_15_allowed)\n"
   ]
  },
  {
   "cell_type": "code",
   "execution_count": 22,
   "metadata": {},
   "outputs": [
    {
     "name": "stdout",
     "output_type": "stream",
     "text": [
      "{'4+': 0.6159510907322495, '12+': 0.16048353480616923, '9+': 0.13714047519799916, '17+': 0.08642489926358204}\n",
      "{'4+': 4433, '12+': 1155, '9+': 987, '17+': 622}\n",
      "Key: 4+\n",
      "Proportion value: 0.6159510907322495\n",
      "{'4+': 0.6159510907322495}\n",
      "Key: 12+\n",
      "Proportion value: 0.16048353480616923\n",
      "{'4+': 0.6159510907322495, '12+': 0.16048353480616923}\n",
      "Key: 9+\n",
      "Proportion value: 0.13714047519799916\n",
      "{'4+': 0.6159510907322495, '12+': 0.16048353480616923, '9+': 0.13714047519799916}\n",
      "Key: 17+\n",
      "Proportion value: 0.08642489926358204\n",
      "{'4+': 0.6159510907322495, '12+': 0.16048353480616923, '9+': 0.13714047519799916, '17+': 0.08642489926358204}\n"
     ]
    }
   ],
   "source": [
    "# Keeping the Dictionaries Separate\n",
    "\n",
    "content_ratings = {'4+': 4433, '12+': 1155, '9+': 987, '17+': 622}\n",
    "total_number_of_apps = 7197\n",
    "c_ratings_proportions = {}\n",
    "\n",
    "for key in content_ratings:\n",
    "    proportion = (content_ratings[key] / total_number_of_apps)     \n",
    "    c_ratings_proportions[key] = proportion\n",
    "\n",
    "print(c_ratings_proportions)\n",
    "print(content_ratings)"
   ]
  },
  {
   "cell_type": "code",
   "execution_count": 23,
   "metadata": {},
   "outputs": [
    {
     "name": "stdout",
     "output_type": "stream",
     "text": [
      "Key: 4+\n",
      "Proportion value: 0.6159510907322495\n",
      "{'4+': 0.6159510907322495}\n",
      "Key: 12+\n",
      "Proportion value: 0.16048353480616923\n",
      "{'4+': 0.6159510907322495, '12+': 0.16048353480616923}\n",
      "Key: 9+\n",
      "Proportion value: 0.13714047519799916\n",
      "{'4+': 0.6159510907322495, '12+': 0.16048353480616923, '9+': 0.13714047519799916}\n",
      "Key: 17+\n",
      "Proportion value: 0.08642489926358204\n",
      "{'4+': 0.6159510907322495, '12+': 0.16048353480616923, '9+': 0.13714047519799916, '17+': 0.08642489926358204}\n"
     ]
    }
   ],
   "source": [
    "# Keeping the Dictionaries Separate\n",
    "\n",
    "content_ratings = {'4+': 4433, '12+': 1155, '9+': 987, '17+': 622}\n",
    "total_number_of_apps = 7197\n",
    "c_ratings_proportions = {}\n",
    "\n",
    "for key in content_ratings:\n",
    "    proportion = (content_ratings[key] / total_number_of_apps)     \n",
    "    print('Key:', key)\n",
    "    print('Proportion value:', proportion)\n",
    "\n",
    "    c_ratings_proportions[key] = proportion\n",
    "    print(c_ratings_proportions)"
   ]
  },
  {
   "cell_type": "code",
   "execution_count": 26,
   "metadata": {},
   "outputs": [
    {
     "name": "stdout",
     "output_type": "stream",
     "text": [
      "{'4+': 0.6159510907322495, '12+': 0.16048353480616923, '9+': 0.13714047519799916, '17+': 0.08642489926358204}\n",
      "{'4+': 61.595109073224954, '12+': 16.04835348061692, '9+': 13.714047519799916, '17+': 8.642489926358204}\n"
     ]
    }
   ],
   "source": [
    "# Keeping the Dictionaries Separate\n",
    "\n",
    "content_ratings = {'4+': 4433, '12+': 1155, '9+': 987, '17+': 622}\n",
    "total_number_of_apps = 7197\n",
    "c_ratings_proportions = {}\n",
    "c_ratings_percentages = {}\n",
    "\n",
    "for key in content_ratings:\n",
    "    proportion = (content_ratings[key] / total_number_of_apps)\n",
    "    c_ratings_proportions[key] = proportion\n",
    "    percentages = (c_ratings_proportions[key] * 100)\n",
    "    c_ratings_percentages[key] = percentages\n",
    "\n",
    "print(c_ratings_proportions)\n",
    "print(c_ratings_percentages)"
   ]
  },
  {
   "cell_type": "code",
   "execution_count": 33,
   "metadata": {},
   "outputs": [
    {
     "name": "stdout",
     "output_type": "stream",
     "text": [
      "589824\n",
      "4025969664\n"
     ]
    }
   ],
   "source": [
    "# Frequency Tables for Numerical Columns\n",
    "\n",
    "data_sizes = []\n",
    "\n",
    "for row in apps_data[1:]:\n",
    "    size = int(row[2])\n",
    "    data_sizes.append(size)\n",
    "\n",
    "min_size = min(data_sizes)\n",
    "max_size = max(data_sizes)\n",
    "\n",
    "print(min_size)\n",
    "print(max_size)"
   ]
  },
  {
   "cell_type": "code",
   "execution_count": 35,
   "metadata": {},
   "outputs": [
    {
     "name": "stdout",
     "output_type": "stream",
     "text": [
      "{'0 - 10 MB': 285, '10 - 50 MB': 1639, '50 - 100 MB': 1778, '100 - 500 MB': 2894, '500 MB +': 601}\n"
     ]
    }
   ],
   "source": [
    "# Filtering for the Intervals\n",
    "\n",
    "data_sizes = {'0 - 10 MB': 0, '10 - 50 MB': 0, '50 - 100 MB': 0, '100 - 500 MB': 0, '500 MB +': 0}\n",
    "\n",
    "for row in apps_data[1:]:\n",
    "    data_size = float(row[2])\n",
    "    if data_size <= 10000000:\n",
    "        data_sizes['0 - 10 MB'] += 1\n",
    "    elif 10000000 <= data_size <= 50000000:\n",
    "        data_sizes['10 - 50 MB'] += 1\n",
    "    elif 50000000 < data_size <= 100000000:\n",
    "        data_sizes['50 - 100 MB'] += 1\n",
    "    elif 100000000 < data_size <= 500000000:\n",
    "        data_sizes['100 - 500 MB'] += 1\n",
    "    elif data_size > 500000000:\n",
    "        data_sizes['500 MB +'] += 1\n",
    "\n",
    "print(data_sizes)\n",
    "\n"
   ]
  },
  {
   "cell_type": "code",
   "execution_count": 43,
   "metadata": {},
   "outputs": [
    {
     "name": "stdout",
     "output_type": "stream",
     "text": [
      "{'0 - 743669': 7187, '743669 - 1487338': 6, '1487338 - 2231007': 3, '2231007 - 2974676': 1}\n"
     ]
    }
   ],
   "source": [
    "# Find the minimum and maximum value in the rating_count_tot column\n",
    "\n",
    "rating_count_list = {'0 - 743669': 0, '743669 - 1487338': 0, '1487338 - 2231007': 0, '2231007 - 2974676': 0}\n",
    "\n",
    "# REFAZER COM INTERVALOS MELHORES\n",
    "\n",
    "for row in apps_data[1:]:\n",
    "    rating_count = int(row[5])\n",
    "    if rating_count <= 743669:\n",
    "        rating_count_list['0 - 743669'] += 1\n",
    "    elif 743669 <= rating_count <= 1487338:\n",
    "        rating_count_list['743669 - 1487338'] += 1\n",
    "    elif 1487338 < rating_count <= 2231007:\n",
    "        rating_count_list['1487338 - 2231007'] += 1\n",
    "    elif 2231007 < rating_count <= 2974676:\n",
    "        rating_count_list['2231007 - 2974676'] += 1\n",
    "print(rating_count_list)\n"
   ]
  }
 ],
 "metadata": {
  "kernelspec": {
   "display_name": "Python 3",
   "language": "python",
   "name": "python3"
  },
  "language_info": {
   "codemirror_mode": {
    "name": "ipython",
    "version": 3
   },
   "file_extension": ".py",
   "mimetype": "text/x-python",
   "name": "python",
   "nbconvert_exporter": "python",
   "pygments_lexer": "ipython3",
   "version": "3.11.5"
  }
 },
 "nbformat": 4,
 "nbformat_minor": 2
}
