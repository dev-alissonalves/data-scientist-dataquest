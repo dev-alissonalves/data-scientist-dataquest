{
 "cells": [
  {
   "cell_type": "code",
   "execution_count": 3,
   "metadata": {},
   "outputs": [
    {
     "name": "stdout",
     "output_type": "stream",
     "text": [
      "5\n",
      "5\n",
      "103945\n",
      "103945\n"
     ]
    }
   ],
   "source": [
    "# Python Functions: Using Built-in Functions and Creating Functions\n",
    "\n",
    "# manual method\n",
    "list_1 = [21, 0, 72, 2, 5]\n",
    "length = 0\n",
    "for element in list_1:\n",
    "    length += 1\n",
    "\n",
    "print(length)\n",
    "\n",
    "# using Built-in Functions\n",
    "list_2 = [34, 6, 7, 24, 10]\n",
    "print(len(list_2))\n",
    "\n",
    "# manual method\n",
    "\n",
    "a_list = [4444, 8897, 6340, 9896, 4835, 4324, 10, 6445,\n",
    "          661, 1246, 1000, 7429, 1376, 8121, 647, 1280,\n",
    "          3993, 4881, 9500, 6701, 1199, 6251, 4432, 37]\n",
    "sum_manual = 0\n",
    "for row in a_list:\n",
    "    sum_manual += row\n",
    "print(sum_manual)\n",
    "\n",
    "# using Built-in Functions\n",
    "print(sum(a_list))"
   ]
  },
  {
   "cell_type": "code",
   "execution_count": 4,
   "metadata": {},
   "outputs": [
    {
     "name": "stdout",
     "output_type": "stream",
     "text": [
      "{'4+': 3, '9+': 1, '12+': 2, '17+': 2}\n"
     ]
    }
   ],
   "source": [
    "# Built-In Functions\n",
    "\n",
    "ratings = ['4+', '4+', '4+', '9+', '12+', '12+', '17+', '17+']\n",
    "\n",
    "content_ratings = {}\n",
    "\n",
    "for content in ratings: \n",
    "    if content in content_ratings:\n",
    "        content_ratings[content] += 1\n",
    "    else:\n",
    "        content_ratings[content] = 1\n",
    "\n",
    "print(content_ratings)"
   ]
  },
  {
   "cell_type": "code",
   "execution_count": 6,
   "metadata": {},
   "outputs": [
    {
     "name": "stdout",
     "output_type": "stream",
     "text": [
      "100\n",
      "256\n"
     ]
    }
   ],
   "source": [
    "# Creating Our Own Functions\n",
    "\n",
    "def square(a_number):\n",
    "    squared_number = a_number * a_number\n",
    "    return squared_number\n",
    "\n",
    "squared_10 = square(10)\n",
    "squared_16 = square(16)\n",
    "\n",
    "print(squared_10)\n",
    "print(squared_16)"
   ]
  },
  {
   "cell_type": "code",
   "execution_count": 7,
   "metadata": {},
   "outputs": [
    {
     "name": "stdout",
     "output_type": "stream",
     "text": [
      "40\n",
      "100\n"
     ]
    }
   ],
   "source": [
    "# The Structure of a Function\n",
    "\n",
    "def add_10(number):\n",
    "    result = number + 10\n",
    "    return result\n",
    "\n",
    "\n",
    "add_30 = add_10(30)\n",
    "add_90 = add_10(90)\n",
    "\n",
    "print(add_30)\n",
    "print(add_90)"
   ]
  },
  {
   "cell_type": "code",
   "execution_count": 10,
   "metadata": {},
   "outputs": [
    {
     "name": "stdout",
     "output_type": "stream",
     "text": [
      "January 10, 2024\n",
      "July 4, 2004\n",
      "June 9, 1949\n"
     ]
    }
   ],
   "source": [
    "# Parameters and Arguments\n",
    "\n",
    "# Example: July 15, 2006\n",
    "\n",
    "def date(month, day, year):\n",
    "    return month + \" \" + str(day) + \", \" + str(year)\n",
    "\n",
    "print(date('January', 10, 2024))\n",
    "print(date('July', 4, 2004))\n",
    "print(date('June', 9, 1949))\n"
   ]
  },
  {
   "cell_type": "code",
   "execution_count": 11,
   "metadata": {},
   "outputs": [
    {
     "name": "stdout",
     "output_type": "stream",
     "text": [
      "36\n",
      "121\n"
     ]
    }
   ],
   "source": [
    "# The Return Statement\n",
    "\n",
    "def square(a_number):\n",
    "    return a_number * a_number\n",
    "\n",
    "squared_6 = square(6)\n",
    "squared_11 = square(11)\n",
    "\n",
    "print(squared_6)\n",
    "print(squared_11)"
   ]
  }
 ],
 "metadata": {
  "kernelspec": {
   "display_name": "base",
   "language": "python",
   "name": "python3"
  },
  "language_info": {
   "codemirror_mode": {
    "name": "ipython",
    "version": 3
   },
   "file_extension": ".py",
   "mimetype": "text/x-python",
   "name": "python",
   "nbconvert_exporter": "python",
   "pygments_lexer": "ipython3",
   "version": "3.11.5"
  }
 },
 "nbformat": 4,
 "nbformat_minor": 2
}
