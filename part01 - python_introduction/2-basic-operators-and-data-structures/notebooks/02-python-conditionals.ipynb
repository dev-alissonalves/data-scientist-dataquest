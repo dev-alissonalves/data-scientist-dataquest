{
 "cells": [
  {
   "cell_type": "code",
   "execution_count": 2,
   "metadata": {},
   "outputs": [
    {
     "name": "stdout",
     "output_type": "stream",
     "text": [
      "3.38\n"
     ]
    }
   ],
   "source": [
    "# BASIC PYTHON - CONDITIONALS \n",
    "\n",
    "# The Average Rating of Free Apps\n",
    "\n",
    "from csv import reader\n",
    "opened_file = open('../dataset/AppleStore.csv')\n",
    "read_file = reader(opened_file)\n",
    "apps_data = list(read_file)\n",
    "\n",
    "free_apps_ratings = []\n",
    "apps_names = []\n",
    "\n",
    "for row in apps_data[1:]:\n",
    "    name = row[1]\n",
    "    price = float(row[4])\n",
    "    rating = float(row[7])\n",
    "    \n",
    "    apps_names.append(name)\n",
    "    \n",
    "    if price == 0:\n",
    "        free_apps_ratings.append(rating)\n",
    "\n",
    "avg_rating_free = sum(free_apps_ratings) / len(free_apps_ratings)\n",
    "\n",
    "# SHOW INFORMATION\n",
    "print(f'{avg_rating_free:.2f}')"
   ]
  },
  {
   "cell_type": "code",
   "execution_count": 5,
   "metadata": {},
   "outputs": [
    {
     "name": "stdout",
     "output_type": "stream",
     "text": [
      "Average Ratings for Non Free Apps and Free Apps\n",
      "\n",
      "Free Apps: 3.38\n",
      "Non-free Apps: 3.72\n"
     ]
    }
   ],
   "source": [
    "# The Average Rating of Non-Free Apps\n",
    "\n",
    "from csv import reader\n",
    "opened_file = open('../dataset/AppleStore.csv')\n",
    "read_file = reader(opened_file)\n",
    "apps_data = list(read_file)\n",
    "\n",
    "free_apps_ratings = []\n",
    "non_free_apps_ratings = []\n",
    "apps_names = []\n",
    "\n",
    "for row in apps_data[1:]:\n",
    "    name = row[1]\n",
    "    price = float(row[4])\n",
    "    rating = float(row[7])  \n",
    "    apps_names.append(name)\n",
    "\n",
    "    if price != 0:\n",
    "        non_free_apps_ratings.append(rating)\n",
    "    else:\n",
    "        free_apps_ratings.append(rating)\n",
    "\n",
    "avg_rating_non_free = sum(non_free_apps_ratings) / len(non_free_apps_ratings)\n",
    "avg_rating_free = sum(free_apps_ratings) / len(free_apps_ratings)\n",
    "\n",
    "\n",
    "# SHOW INFORMATION\n",
    "print(f'Average Ratings for Non Free Apps and Free Apps\\n\\nFree Apps: {avg_rating_free:.2f}\\nNon-free Apps: {avg_rating_non_free:.2f}')"
   ]
  },
  {
   "cell_type": "code",
   "execution_count": 6,
   "metadata": {},
   "outputs": [
    {
     "name": "stdout",
     "output_type": "stream",
     "text": [
      "The Average Rating of Gaming Apps: 3.69\n"
     ]
    }
   ],
   "source": [
    "# The Average Rating of Gaming App [11]\n",
    "\n",
    "from csv import reader\n",
    "opened_file = open('../dataset/AppleStore.csv')\n",
    "read_file = reader(opened_file)\n",
    "apps_data = list(read_file)\n",
    "\n",
    "games_ratings = []\n",
    "\n",
    "for row in apps_data[1:]:\n",
    "    rating = float(row[7])\n",
    "    genre = row[11]\n",
    "\n",
    "    if genre == 'Games':\n",
    "        games_ratings.append(rating)\n",
    "\n",
    "avg_rating_games = sum(games_ratings) / len(games_ratings)\n",
    "\n",
    "# SHOW INFORMATION\n",
    "print(f'The Average Rating of Gaming Apps: {avg_rating_games:.2f}')"
   ]
  },
  {
   "cell_type": "code",
   "execution_count": 7,
   "metadata": {},
   "outputs": [
    {
     "name": "stdout",
     "output_type": "stream",
     "text": [
      "The Average Rating of Non Gaming Apps: 3.34\n"
     ]
    }
   ],
   "source": [
    "# The Average Rating of Non Gaming App\n",
    "\n",
    "from csv import reader\n",
    "opened_file = open('../dataset/AppleStore.csv')\n",
    "read_file = reader(opened_file)\n",
    "apps_data = list(read_file)\n",
    "\n",
    "non_games_ratings = []\n",
    "\n",
    "for row in apps_data[1:]:\n",
    "    rating = float(row[7])\n",
    "    genre = row[11]\n",
    "\n",
    "    if genre != 'Games':\n",
    "        non_games_ratings.append(rating)\n",
    "\n",
    "avg_rating_non_games = sum(non_games_ratings) / len(non_games_ratings)\n",
    "\n",
    "# SHOW INFORMATION\n",
    "print(f'The Average Rating of Non Gaming Apps: {avg_rating_non_games:.2f}')"
   ]
  },
  {
   "cell_type": "code",
   "execution_count": 10,
   "metadata": {},
   "outputs": [
    {
     "name": "stdout",
     "output_type": "stream",
     "text": [
      "The Average Rating of Gaming Apps: 3.69\n",
      "The Average Rating of Non Gaming Apps: 3.34\n",
      "The results indicate that apps in the Games genre have a 0.34 higher rating compared to other types of apps\n"
     ]
    }
   ],
   "source": [
    "# The Average Rating of Non Gaming App and Gaming Apps\n",
    "\n",
    "from csv import reader\n",
    "opened_file = open('../dataset/AppleStore.csv')\n",
    "read_file = reader(opened_file)\n",
    "apps_data = list(read_file)\n",
    "\n",
    "non_games_ratings = []\n",
    "games_ratings = []\n",
    "\n",
    "for row in apps_data[1:]:\n",
    "    rating = float(row[7])\n",
    "    genre = row[11]\n",
    "\n",
    "    if genre == 'Games':\n",
    "        games_ratings.append(rating)\n",
    "    else:\n",
    "        non_games_ratings.append(rating)\n",
    "\n",
    "avg_rating_games = sum(games_ratings) / len(games_ratings)\n",
    "avg_rating_non_games = sum(non_games_ratings) / len(non_games_ratings)\n",
    "\n",
    "# SHOW INFORMATION\n",
    "print(f'The Average Rating of Gaming Apps: {avg_rating_games:.2f}')\n",
    "print(f'The Average Rating of Non Gaming Apps: {avg_rating_non_games:.2f}')\n",
    "print(f'The results indicate that apps in the Games genre have a {avg_rating_games - avg_rating_non_games:.2f} higher rating compared to other types of apps')"
   ]
  },
  {
   "cell_type": "code",
   "execution_count": 12,
   "metadata": {},
   "outputs": [
    {
     "name": "stdout",
     "output_type": "stream",
     "text": [
      "The Average Rating of free gaming apps: 3.38\n"
     ]
    }
   ],
   "source": [
    "# Multiple Conditions\n",
    "\n",
    "# Calculate average rating of free gaming apps\n",
    "\n",
    "opened_file = open('../dataset/AppleStore.csv')\n",
    "from csv import reader\n",
    "read_file = reader(opened_file)\n",
    "apps_data = list(read_file)\n",
    "\n",
    "free_games_ratings = []\n",
    "\n",
    "for row in apps_data[1:]:\n",
    "    rating = float(row[7])\n",
    "    price = float(row[4])\n",
    "    genre = row[11]\n",
    "    \n",
    "    if price == 0.0 and genre == 'Games':\n",
    "        free_games_ratings.append(rating)\n",
    "\n",
    "avg_rating_free_games = sum(free_apps_ratings) / len(free_apps_ratings)\n",
    "\n",
    "# SHOW INFORMATION\n",
    "print(f'The Average Rating of free gaming apps: {avg_rating_free_games:.2f}')"
   ]
  },
  {
   "cell_type": "code",
   "execution_count": 14,
   "metadata": {},
   "outputs": [
    {
     "name": "stdout",
     "output_type": "stream",
     "text": [
      "The Average Rating of the apps with a genre that is either \"Social Networking\" or \"Games\": 3.66\n"
     ]
    }
   ],
   "source": [
    "# Calculate average rating of the apps with a genre that is either \"Social Networking\" or \"Games.\"\n",
    "\n",
    "opened_file = open('../dataset/AppleStore.csv')\n",
    "from csv import reader\n",
    "read_file = reader(opened_file)\n",
    "apps_data = list(read_file)\n",
    "\n",
    "games_social_ratings = []\n",
    "\n",
    "for row in apps_data[1:]:\n",
    "    rating = float(row[7])\n",
    "    genre = row[11]\n",
    "\n",
    "    if genre == 'Social Networking' or genre == 'Games':\n",
    "        games_social_ratings.append(rating)\n",
    "\n",
    "avg_games_social = sum(games_social_ratings) / len(games_social_ratings)\n",
    "\n",
    "# SHOW INFORMATION\n",
    "print(f'The Average Rating of the apps with a genre that is either \"Social Networking\" or \"Games\": {avg_games_social:.2f}')"
   ]
  },
  {
   "cell_type": "code",
   "execution_count": 15,
   "metadata": {},
   "outputs": [
    {
     "name": "stdout",
     "output_type": "stream",
     "text": [
      "The Average rating of not-free apps with a genre that is either \"Social Networking\" or \"Games.: 3.82\n"
     ]
    }
   ],
   "source": [
    "# Combining Logical Operators\n",
    "\n",
    "# Compute the average rating of not-free apps with a genre that is either \"Social Networking\" or \"Games.\"\n",
    "\n",
    "opened_file = open('../dataset/AppleStore.csv')\n",
    "from csv import reader\n",
    "read_file = reader(opened_file)\n",
    "apps_data = list(read_file)\n",
    "\n",
    "non_free_games_social_ratings = []\n",
    "\n",
    "for row in apps_data[1:]:\n",
    "    rating = float(row[7])\n",
    "    price = float(row[4])\n",
    "    genre = row[11]\n",
    "\n",
    "    if genre == 'Social Networking' or genre == 'Games' and price != 0.0:\n",
    "        non_free_games_social_ratings.append(rating)\n",
    "\n",
    "avg_not_free = sum(non_free_games_social_ratings) / len(non_free_games_social_ratings)\n",
    "\n",
    "# SHOW INFORMATION\n",
    "print(f'The Average rating of not-free apps with a genre that is either \"Social Networking\" or \"Games.: {avg_not_free:.2f}')"
   ]
  },
  {
   "cell_type": "code",
   "execution_count": 17,
   "metadata": {},
   "outputs": [
    {
     "name": "stdout",
     "output_type": "stream",
     "text": [
      "178 7019\n"
     ]
    }
   ],
   "source": [
    "# Comparison Operator Applications\n",
    "\n",
    "# Calculate the average rating of the apps costing more than $9.\n",
    "\n",
    "opened_file = open('../dataset/AppleStore.csv')\n",
    "from csv import reader\n",
    "read_file = reader(opened_file)\n",
    "apps_data = list(read_file)\n",
    "\n",
    "ratings_apps_more_9 = []\n",
    "ratings_apps_less_equal_9 = []\n",
    "\n",
    "for row in apps_data[1:]:\n",
    "    rating = float(row[7])\n",
    "    price = float(row[4])\n",
    "\n",
    "    if price > 9:\n",
    "        ratings_apps_more_9.append(rating)\n",
    "    else: \n",
    "        ratings_apps_less_equal_9.append(rating)\n",
    "\n",
    "n_apps_more_9 = len(ratings_apps_more_9)\n",
    "n_apps_less_9 = len(ratings_apps_less_equal_9)\n",
    "\n",
    "avg_rating = sum(ratings_apps_more_9) / n_apps_more_9"
   ]
  },
  {
   "cell_type": "code",
   "execution_count": 2,
   "metadata": {},
   "outputs": [
    {
     "name": "stdout",
     "output_type": "stream",
     "text": [
      "[['id', 'track_name', 'size_bytes', 'currency', 'price', 'rating_count_tot', 'rating_count_ver', 'user_rating', 'user_rating_ver', 'ver', 'cont_rating', 'prime_genre', 'sup_devices.num', 'ipadSc_urls.num', 'lang.num', 'vpp_lic', 'price_label'], ['284882215', 'Facebook', '389879808', 'USD', '0.0', '2974676', '212', '3.5', '3.5', '95.0', '4+', 'Social Networking', '37', '1', '29', '1', 'free'], ['389801252', 'Instagram', '113954816', 'USD', '0.0', '2161558', '1289', '4.5', '4.0', '10.23', '12+', 'Photo & Video', '37', '0', '29', '1', 'free'], ['529479190', 'Clash of Clans', '116476928', 'USD', '0.0', '2130805', '579', '4.5', '4.5', '9.24.12', '9+', 'Games', '38', '5', '18', '1', 'free'], ['420009108', 'Temple Run', '65921024', 'USD', '0.0', '1724546', '3842', '4.5', '4.0', '1.6.2', '9+', 'Games', '40', '5', '1', '1', 'free']]\n"
     ]
    }
   ],
   "source": [
    "# Else vs. elif\n",
    "\n",
    "opened_file = open('../dataset/AppleStore.csv')\n",
    "from csv import reader\n",
    "read_file = reader(opened_file)\n",
    "apps_data = list(read_file)\n",
    "\n",
    "for app in apps_data[1:]:\n",
    "    price = float(app[4])\n",
    "\n",
    "    if price == 0:\n",
    "        app.append('free')\n",
    "    elif price > 0 and price < 20:\n",
    "        app.append('affordable')\n",
    "    elif price >= 20 and price < 50:\n",
    "        app.append('expensive')\n",
    "    elif price > 50:\n",
    "         app.append('very expensive')\n",
    "\n",
    "apps_data[0].append('price_label')\n",
    "print(apps_data[:5])"
   ]
  }
 ],
 "metadata": {
  "kernelspec": {
   "display_name": "Python 3",
   "language": "python",
   "name": "python3"
  },
  "language_info": {
   "codemirror_mode": {
    "name": "ipython",
    "version": 3
   },
   "file_extension": ".py",
   "mimetype": "text/x-python",
   "name": "python",
   "nbconvert_exporter": "python",
   "pygments_lexer": "ipython3",
   "version": "3.11.6"
  }
 },
 "nbformat": 4,
 "nbformat_minor": 2
}
