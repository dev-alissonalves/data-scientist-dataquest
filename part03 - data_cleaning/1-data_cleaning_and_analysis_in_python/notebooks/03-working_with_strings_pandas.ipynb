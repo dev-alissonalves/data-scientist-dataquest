{
 "cells": [
  {
   "cell_type": "code",
   "execution_count": 1,
   "metadata": {},
   "outputs": [],
   "source": [
    "import pandas as pd"
   ]
  },
  {
   "cell_type": "code",
   "execution_count": 2,
   "metadata": {},
   "outputs": [],
   "source": [
    "# Working with Strings In Pandas \n",
    "\n",
    "world_dev = pd.read_csv(\"../dataset/World_dev.csv\")\n",
    "happiness2015 = pd.read_csv('../dataset/World_Happiness_2015.csv')\n",
    "col_renaming = {'SourceOfMostRecentIncomeAndExpenditureData': 'IESurvey'}"
   ]
  },
  {
   "cell_type": "code",
   "execution_count": 4,
   "metadata": {},
   "outputs": [],
   "source": [
    "'''\n",
    "    Este código está mesclando o happiness2015 conjunto de dados com o world_dev conjunto de dados com base na Country coluna no conjunto de dados da esquerda e na ShortName coluna no conjunto de dados da direita. O conjunto de dados mesclado resultante terá todas as colunas de ambos os conjuntos de dados, com NaN valores nas colunas do conjunto de dados da direita se não houver correspondências.\n",
    "'''\n",
    "\n",
    "merged = pd.merge(left = happiness2015, right = world_dev, how = 'left', left_on = 'Country', right_on = 'ShortName')"
   ]
  },
  {
   "cell_type": "code",
   "execution_count": 5,
   "metadata": {},
   "outputs": [],
   "source": [
    "'''\n",
    "    Axis = 1: Isto especifica o eixo a ser renomeado. No pandas, axis = 0refere-se ao índice (linhas) e axis = 1refere-se às colunas. Como estamos renomeando colunas, definimos axis = 1.\n",
    "'''\n",
    "\n",
    "merged = merged.rename(col_renaming, axis = 1)"
   ]
  },
  {
   "cell_type": "code",
   "execution_count": 7,
   "metadata": {},
   "outputs": [],
   "source": [
    "# Using Apply to Transform Strings\n",
    "\n",
    "def extract_last_word(element):\n",
    "    element = str(element)\n",
    "    elements = element.split()\n",
    "    return elements[-1]\n",
    "\n",
    "\n",
    "merged['Currency Apply'] = merged['CurrencyUnit'].apply(extract_last_word)"
   ]
  },
  {
   "cell_type": "code",
   "execution_count": null,
   "metadata": {},
   "outputs": [],
   "source": [
    "# Vectorized String Methods Overview\n",
    "\n"
   ]
  }
 ],
 "metadata": {
  "kernelspec": {
   "display_name": "Python 3",
   "language": "python",
   "name": "python3"
  },
  "language_info": {
   "codemirror_mode": {
    "name": "ipython",
    "version": 3
   },
   "file_extension": ".py",
   "mimetype": "text/x-python",
   "name": "python",
   "nbconvert_exporter": "python",
   "pygments_lexer": "ipython3",
   "version": "3.11.9"
  }
 },
 "nbformat": 4,
 "nbformat_minor": 2
}
