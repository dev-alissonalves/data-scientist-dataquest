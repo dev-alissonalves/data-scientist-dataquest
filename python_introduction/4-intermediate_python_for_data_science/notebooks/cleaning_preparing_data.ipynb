{
 "cells": [
  {
   "cell_type": "code",
   "execution_count": 43,
   "metadata": {},
   "outputs": [],
   "source": [
    "# Introducing Data Cleaning\n",
    "\n",
    "# Opening the file\n",
    "\n",
    "from csv import reader, writer\n",
    "opened_file = open('../dataset/artworks.csv')\n",
    "read_file = reader(opened_file)\n",
    "moma = list(read_file)\n",
    "header_moma = moma[0]\n",
    "moma = moma[1:]\n",
    "num_rows = len(moma)"
   ]
  },
  {
   "cell_type": "code",
   "execution_count": 44,
   "metadata": {},
   "outputs": [
    {
     "name": "stdout",
     "output_type": "stream",
     "text": [
      "['Dress MacLeod from Tartan Sets', 'Sarah Charlesworth', '(American)', '(1947)', '(2013)', '(Female)', '1986', 'Prints & Illustrated Books']\n",
      "\n",
      "\n",
      "['Duplicate of plate from folio 11 verso (supplementary suite, plate 4) from ARDICIA', 'Pablo Palazuelo', '(Spanish)', '(1916)', '(2007)', '(Male)', '1978', 'Prints & Illustrated Books']\n",
      "\n",
      "\n",
      "['Tailpiece (page 55) from SAGESSE', 'Maurice Denis', '(French)', '(1870)', '(1943)', '(Male)', '1889-1911', 'Prints & Illustrated Books']\n",
      "\n",
      "\n",
      "['Headpiece (page 129) from LIVRET DE FOLASTRIES, À JANOT PARISIEN', 'Aristide Maillol', '(French)', '(1861)', '(1944)', '(Male)', '1927-1940', 'Prints & Illustrated Books']\n",
      "\n",
      "\n",
      "['97 rue du Bac', 'Eugène Atget', '(French)', '(1857)', '(1927)', '(Male)', '1903', 'Photography']\n",
      "\n",
      "\n"
     ]
    }
   ],
   "source": [
    "# Reading our MoMA Dataset\n",
    "\n",
    "for row in moma[:5]:\n",
    "    print(row)\n",
    "    print('\\n')"
   ]
  },
  {
   "cell_type": "code",
   "execution_count": 45,
   "metadata": {},
   "outputs": [
    {
     "name": "stdout",
     "output_type": "stream",
     "text": [
      "I am thirty-one years old\n",
      "I am thirty-two years old\n"
     ]
    }
   ],
   "source": [
    "# Replacing Substrings with the Replace Method\n",
    "\n",
    "age1 = 'I am thirty-one years old'\n",
    "age2 = age1.replace('one', 'two')\n",
    "\n",
    "print(age1)\n",
    "print(age2)"
   ]
  },
  {
   "cell_type": "code",
   "execution_count": 46,
   "metadata": {},
   "outputs": [],
   "source": [
    "# Cleaning the Nationality and Gender Columns\n",
    "\n",
    "# Variables you create in previous screens\n",
    "# are available to you, so you don't need\n",
    "# to read the CSV again\n",
    "\n",
    "for row in moma:\n",
    "    nationality = row[2]\n",
    "    nationality = nationality.replace(\"(\", \"\")\n",
    "    nationality = nationality.replace(\")\", \"\")\n",
    "    \n",
    "    gender = row[5]\n",
    "    gender = gender.replace(\"(\", \"\")\n",
    "    gender = gender.replace(\")\", \"\")\n",
    "\n",
    "    row[2] = nationality\n",
    "    row[5] = gender\n",
    "    "
   ]
  },
  {
   "cell_type": "code",
   "execution_count": 47,
   "metadata": {},
   "outputs": [],
   "source": [
    "# String Capitalization\n",
    "\n",
    "for row in moma:\n",
    "    gender = row[5]\n",
    "    gender = gender.title()\n",
    "    \n",
    "    if not gender:\n",
    "        gender = \"Gender Unknown/Other\"\n",
    "    \n",
    "    row[5] = gender\n",
    "    \n",
    "    nationality = row[2]\n",
    "    nationality = nationality.title()\n",
    "    \n",
    "    if not nationality:\n",
    "        nationality = \"Nationality unknown\"\n",
    "    row[2] = nationality\n",
    "    \n",
    "    \n"
   ]
  },
  {
   "cell_type": "code",
   "execution_count": 48,
   "metadata": {},
   "outputs": [],
   "source": [
    "# Errors During Data Cleaning\n",
    "\n",
    "def clean_and_convert(date):\n",
    "    # check that we don't have an empty string\n",
    "    if date != \"\":\n",
    "        # move the rest of the function inside\n",
    "        # the if statement\n",
    "        date = date.replace(\"(\", \"\")\n",
    "        date = date.replace(\")\", \"\")\n",
    "        date = int(date)\n",
    "    return date\n",
    "\n",
    "for row in moma:\n",
    "    BeginDate = row[3]\n",
    "    EndDate = row[4]\n",
    "    row[3] = clean_and_convert(BeginDate)\n",
    "    row[4] = clean_and_convert(EndDate)\n",
    "\n"
   ]
  },
  {
   "cell_type": "code",
   "execution_count": 49,
   "metadata": {},
   "outputs": [
    {
     "name": "stdout",
     "output_type": "stream",
     "text": [
      "[['Dress MacLeod from Tartan Sets', 'Sarah Charlesworth', 'American', 1947, 2013, 'Female', '1986', 'Prints & Illustrated Books'], ['Duplicate of plate from folio 11 verso (supplementary suite, plate 4) from ARDICIA', 'Pablo Palazuelo', 'Spanish', 1916, 2007, 'Male', '1978', 'Prints & Illustrated Books'], ['Tailpiece (page 55) from SAGESSE', 'Maurice Denis', 'French', 1870, 1943, 'Male', '1889-1911', 'Prints & Illustrated Books']]\n"
     ]
    }
   ],
   "source": [
    "print(moma[:3])"
   ]
  },
  {
   "cell_type": "code",
   "execution_count": 50,
   "metadata": {},
   "outputs": [
    {
     "name": "stdout",
     "output_type": "stream",
     "text": [
      "['1912', '1929', '1913-1923', '1951', '1994', '1934', '1915', '1995', '1912', '1988', '2002', '1957-1959', '1955', '1970', '1990-1999']\n"
     ]
    }
   ],
   "source": [
    "# Parsing Numbers from Complex Strings, Part One\n",
    "def strip_characters(string):\n",
    "    \n",
    "    for char in bad_chars:\n",
    "        string = string.replace(char, \"\")\n",
    "    \n",
    "    return string\n",
    "\n",
    "test_data = [\"1912\", \"1929\", \"1913-1923\",\n",
    "             \"(1951)\", \"1994\", \"1934\",\n",
    "             \"c. 1915\", \"1995\", \"c. 1912\",\n",
    "             \"(1988)\", \"2002\", \"1957-1959\",\n",
    "             \"c. 1955.\", \"c. 1970's\", \n",
    "             \"C. 1990-1999\"]\n",
    "\n",
    "bad_chars = [\"(\",\")\",\"c\",\"C\",\".\",\"s\",\"'\", \" \"]\n",
    "\n",
    "stripped_test_data = []\n",
    "\n",
    "for row in test_data:\n",
    "    string_cleaned = strip_characters(row)\n",
    "    stripped_test_data.append(string_cleaned)\n",
    "print(stripped_test_data)"
   ]
  },
  {
   "cell_type": "code",
   "execution_count": 51,
   "metadata": {},
   "outputs": [
    {
     "name": "stdout",
     "output_type": "stream",
     "text": [
      "[1912, 1929, 1918, 1951, 1994, 1934, 1915, 1995, 1912, 1988, 2002, 1958, 1955, 1970, 1994]\n"
     ]
    }
   ],
   "source": [
    "# Parsing Numbers from Complex Strings, Part Two\n",
    "\n",
    "\n",
    "def process_date(string):\n",
    "    if '-' in string:\n",
    "        string_split = string.split('-')\n",
    "        val1 = int(string_split[0])\n",
    "        val2 = int(string_split[1])\n",
    "        value_final = round((val1 + val2) / 2)\n",
    "    else:\n",
    "        value_final = int(string)\n",
    "\n",
    "    return value_final\n",
    "\n",
    "def strip_characters(string):\n",
    "    for char in bad_chars:\n",
    "        string = string.replace(char,\"\")\n",
    "    return string\n",
    "\n",
    "stripped_test_data = ['1912', '1929', '1913-1923',\n",
    "                      '1951', '1994', '1934',\n",
    "                      '1915', '1995', '1912',\n",
    "                      '1988', '2002', '1957-1959',\n",
    "                      '1955', '1970', '1990-1999']\n",
    "\n",
    "processed_test_data = []\n",
    "\n",
    "for year in stripped_test_data:\n",
    "    year_final = process_date(year)\n",
    "    processed_test_data.append(year_final)\n",
    "\n",
    "print(processed_test_data)"
   ]
  },
  {
   "cell_type": "code",
   "execution_count": 52,
   "metadata": {},
   "outputs": [],
   "source": [
    "# Testing the moma dataset\n",
    "import csv\n",
    "\n",
    "for row in moma:\n",
    "    date_moma = row[6]\n",
    "    clean_characters = strip_characters(date_moma)\n",
    "    date_final = process_date(clean_characters)\n",
    "    row[6] = date_final\n",
    "\n",
    "with open('../dataset/artworks_v2.csv', 'w', newline='') as novo_arquivo:\n",
    "    writer = csv.writer(novo_arquivo)\n",
    "    writer.writerows(moma)"
   ]
  }
 ],
 "metadata": {
  "kernelspec": {
   "display_name": "Python 3",
   "language": "python",
   "name": "python3"
  },
  "language_info": {
   "codemirror_mode": {
    "name": "ipython",
    "version": 3
   },
   "file_extension": ".py",
   "mimetype": "text/x-python",
   "name": "python",
   "nbconvert_exporter": "python",
   "pygments_lexer": "ipython3",
   "version": "3.11.6"
  }
 },
 "nbformat": 4,
 "nbformat_minor": 2
}
