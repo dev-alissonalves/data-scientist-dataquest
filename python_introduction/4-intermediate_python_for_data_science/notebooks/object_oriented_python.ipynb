{
 "cells": [
  {
   "cell_type": "code",
   "execution_count": 17,
   "metadata": {},
   "outputs": [
    {
     "name": "stdout",
     "output_type": "stream",
     "text": [
      "<class 'list'>\n",
      "<class 'str'>\n",
      "<class 'dict'>\n"
     ]
    }
   ],
   "source": [
    "# Introduction\n",
    "\n",
    "l = [1, 2, 3]\n",
    "s = \"string\"\n",
    "d = {\"a\": 1, \"b\": 2}\n",
    "\n",
    "print(type(l))\n",
    "print(type(s))\n",
    "print(type(d))\n",
    "\n"
   ]
  },
  {
   "cell_type": "code",
   "execution_count": 18,
   "metadata": {},
   "outputs": [],
   "source": [
    "# Class and Objects:  Defining classes\n",
    "\n",
    "class MyClass:\n",
    "    pass"
   ]
  },
  {
   "cell_type": "code",
   "execution_count": 19,
   "metadata": {},
   "outputs": [
    {
     "name": "stdout",
     "output_type": "stream",
     "text": [
      "<class '__main__.MyClass'>\n"
     ]
    }
   ],
   "source": [
    "# Instantiating a Class\n",
    "\n",
    "my_instance = MyClass()\n",
    "print(type(my_instance))"
   ]
  },
  {
   "cell_type": "code",
   "execution_count": 20,
   "metadata": {},
   "outputs": [
    {
     "data": {
      "text/plain": [
       "'This is my first method'"
      ]
     },
     "execution_count": 20,
     "metadata": {},
     "output_type": "execute_result"
    }
   ],
   "source": [
    "# Creating Methods\n",
    "\n",
    "class MyClass:\n",
    "    def first_method(self):\n",
    "        return \"This is my first method\"\n",
    "    \n",
    "my_instance = MyClass()\n",
    "\n",
    "my_instance.first_method()"
   ]
  },
  {
   "cell_type": "code",
   "execution_count": 21,
   "metadata": {},
   "outputs": [
    {
     "name": "stdout",
     "output_type": "stream",
     "text": [
      "This is my first method\n"
     ]
    }
   ],
   "source": [
    "# Understanding \"self\"\n",
    "\n",
    "class MyClass:\n",
    "    \n",
    "    def first_method(self):\n",
    "        return \"This is my first method\"\n",
    "\n",
    "my_instance = MyClass()\n",
    "result = my_instance.first_method()\n",
    "print(result)"
   ]
  },
  {
   "cell_type": "code",
   "execution_count": 22,
   "metadata": {},
   "outputs": [
    {
     "name": "stdout",
     "output_type": "stream",
     "text": [
      "[1, 2, 3]\n"
     ]
    }
   ],
   "source": [
    "# Creating a Method that Accepts an Argument\n",
    "\n",
    "class MyClass:\n",
    "    \n",
    "    def first_method(self):\n",
    "        return \"This is my first method\"\n",
    "    \n",
    "    # Add method here\n",
    "    def return_list(self, input_list):\n",
    "        return input_list\n",
    "    \n",
    "my_instance = MyClass()\n",
    "result = my_instance.return_list([1, 2, 3])\n",
    "print(result)\n",
    "\n"
   ]
  },
  {
   "attachments": {
    "image.png": {
     "image/png": "[encoded data removed]"
    }
   },
   "cell_type": "markdown",
   "metadata": {},
   "source": [
    "![image.png](attachment:image.png)"
   ]
  },
  {
   "cell_type": "code",
   "execution_count": 23,
   "metadata": {},
   "outputs": [
    {
     "name": "stdout",
     "output_type": "stream",
     "text": [
      "[1, 2, 3, 4, 5]\n"
     ]
    }
   ],
   "source": [
    "# Attributes and the Init Method\n",
    "\n",
    "class MyList:\n",
    "    def __init__(self, initial_data):\n",
    "        self.data = initial_data\n",
    "\n",
    "my_list = MyList([1, 2, 3, 4, 5])\n",
    "print(my_list.data)\n",
    "\n"
   ]
  },
  {
   "cell_type": "code",
   "execution_count": 26,
   "metadata": {},
   "outputs": [
    {
     "name": "stdout",
     "output_type": "stream",
     "text": [
      "[1, 2, 3, 4, 5]\n",
      "[1, 2, 3, 4, 5, 6]\n"
     ]
    }
   ],
   "source": [
    "# Creating an Append Method\n",
    "\n",
    "class MyList:\n",
    "\n",
    "    def __init__(self, initial_data):\n",
    "        self.data = initial_data\n",
    "        \n",
    "    # Add method here\n",
    "    def append(self, new_item):\n",
    "        self.data.append(new_item)\n",
    "    \n",
    "my_list = MyList([1, 2, 3, 4, 5])\n",
    "print(my_list.data)\n",
    "my_list.append(6)\n",
    "print(my_list.data)"
   ]
  },
  {
   "cell_type": "code",
   "execution_count": 29,
   "metadata": {},
   "outputs": [
    {
     "data": {
      "text/plain": [
       "6"
      ]
     },
     "execution_count": 29,
     "metadata": {},
     "output_type": "execute_result"
    }
   ],
   "source": [
    "# Creating and Updating an Attribute\n",
    "\n",
    "class MyList:\n",
    "\n",
    "    def __init__(self, initial_data):\n",
    "        self.data = initial_data\n",
    "        \n",
    "        # Calculate the initial length\n",
    "        self.length = 0\n",
    "        for item in self.data:\n",
    "            self.length += 1\n",
    "\n",
    "    def append(self, new_item):\n",
    "        self.data.append(new_item)\n",
    "        self.length += 1\n",
    "        \n",
    "my_list = MyList([1, 2, 3, 4, 5])\n",
    "\n",
    "my_list.length\n",
    "my_list.append(8)\n",
    "my_list.length\n",
    "\n"
   ]
  }
 ],
 "metadata": {
  "kernelspec": {
   "display_name": "base",
   "language": "python",
   "name": "python3"
  },
  "language_info": {
   "codemirror_mode": {
    "name": "ipython",
    "version": 3
   },
   "file_extension": ".py",
   "mimetype": "text/x-python",
   "name": "python",
   "nbconvert_exporter": "python",
   "pygments_lexer": "ipython3",
   "version": "3.11.5"
  }
 },
 "nbformat": 4,
 "nbformat_minor": 2
}
