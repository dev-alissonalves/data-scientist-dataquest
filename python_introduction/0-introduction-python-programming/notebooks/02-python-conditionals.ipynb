{
 "cells": [
  {
   "cell_type": "code",
   "execution_count": null,
   "metadata": {},
   "outputs": [],
   "source": [
    "# BASIC PYTHON - CONDITIONALS \n",
    "\n",
    "# Append Recap\n",
    "\n",
    "from csv import reader\n",
    "opened_file = open('../dataset/AppleStore.csv')\n",
    "read_file = reader(opened_file)\n",
    "apps_data = list(read_file)\n",
    "\n",
    "ratings = []\n",
    "apps_names = []\n",
    "\n",
    "for row in apps_data[1:]:\n",
    "    name = row[1]\n",
    "    apps_names.append(name)\n",
    "    \n",
    "    rating = float(row[7])\n",
    "    ratings.append(rating)\n",
    "    \n",
    "print(apps_names[:5])"
   ]
  }
 ],
 "metadata": {
  "kernelspec": {
   "display_name": "Python 3",
   "language": "python",
   "name": "python3"
  },
  "language_info": {
   "codemirror_mode": {
    "name": "ipython",
    "version": 3
   },
   "file_extension": ".py",
   "mimetype": "text/x-python",
   "name": "python",
   "nbconvert_exporter": "python",
   "pygments_lexer": "ipython3",
   "version": "3.11.6"
  }
 },
 "nbformat": 4,
 "nbformat_minor": 2
}
