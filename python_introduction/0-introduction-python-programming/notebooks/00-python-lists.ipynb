{
 "cells": [
  {
   "cell_type": "code",
   "execution_count": 10,
   "metadata": {},
   "outputs": [
    {
     "name": "stdout",
     "output_type": "stream",
     "text": [
      "ROW_1: 5 \n",
      "ROW_2: 5 \n",
      "ROW_3: 5\n"
     ]
    }
   ],
   "source": [
    "# BASIC LISTS IN PYTHON - LIST LENGTH\n",
    "\n",
    "# CREATE LISTS\n",
    "row_1 = ['Facebook', 0.0, 'USD', 2974676, 3.5]\n",
    "row_2 = ['Instagram', 0.0, 'USD', 2161558, 4.5]\n",
    "row_3 = ['Clash of Clans', 0.0, 'USD', 2130805, 4.5]\n",
    "empty_row = []\n",
    "\n",
    "# CALCULATE LENGTH OF TABLE USING LEN FUNCTION\n",
    "row_1_length = len(row_1)\n",
    "row_2_length = len(row_2)\n",
    "row_3_length = len(row_3)\n",
    "empty_row_length = len(empty_row)\n",
    "\n",
    "# SHOW INFORMATIONS OF LISTS\n",
    "\n",
    "print(f'ROW_1: {row_1_length} \\nROW_2: {row_2_length} \\nROW_3: {row_3_length}')"
   ]
  },
  {
   "cell_type": "code",
   "execution_count": 11,
   "metadata": {},
   "outputs": [
    {
     "name": "stdout",
     "output_type": "stream",
     "text": [
      "TRACKNAME OF INSTAGRAM: Instagram\n",
      "RATING OF CLASH OF CLANS: 4.5\n"
     ]
    }
   ],
   "source": [
    "# BASIC LISTS IN PYTHON - LIST INDEXING\n",
    "\n",
    "# RECOVERING TRACKNAME OF INSTAGRAM\n",
    "track_name_index = row_2[0]\n",
    "\n",
    "# RECOVERING NUMBER OF RATINGS OF CLASH OF CLANS\n",
    "user_rating_index_clash = row_3[4]\n",
    "\n",
    "# SHOW INFORMATIONS OF LISTS\n",
    "print(f'TRACKNAME OF INSTAGRAM: {track_name_index}\\nRATING OF CLASH OF CLANS: {user_rating_index_clash}')"
   ]
  },
  {
   "cell_type": "code",
   "execution_count": 14,
   "metadata": {},
   "outputs": [
    {
     "name": "stdout",
     "output_type": "stream",
     "text": [
      "TOTAL: 12.5\n",
      "AVERAGE: 4.17\n"
     ]
    }
   ],
   "source": [
    "# BASIC LISTS IN PYTHON - Retrieving Values from Lists\n",
    "\n",
    "# RECOVERING NUMBER OF RATINGS OF LISTS\n",
    "ratings_1 = row_1[4]\n",
    "ratings_2 = row_2[4]\n",
    "ratings_3 = row_3[4]\n",
    "\n",
    "# adding up all the ranking values ​​of the lists\n",
    "total_ratings = ratings_1 + ratings_2 + ratings_3\n",
    "\n",
    "# averagins of ratings \n",
    "average = total_ratings / 3\n",
    "\n",
    "# SHOW INFORMATIONS\n",
    "print(f'TOTAL: {total_ratings}\\nAVERAGE: {average:.2f}')"
   ]
  },
  {
   "cell_type": "code",
   "execution_count": 16,
   "metadata": {},
   "outputs": [
    {
     "name": "stdout",
     "output_type": "stream",
     "text": [
      "TOTAL: 12.5\n",
      "AVERAGE: 4.17\n"
     ]
    }
   ],
   "source": [
    "# BASIC LISTS IN PYTHON - Negative Indexing\n",
    "\n",
    "# RECOVERING NUMBER OF RATINGS OF LISTS USING NEGATIVE INDEXNG\n",
    "ratings_1 = row_1[-1]\n",
    "ratings_2 = row_2[-1]\n",
    "ratings_3 = row_3[-1]\n",
    "\n",
    "# adding up all the ranking values ​​of the lists\n",
    "total_ratings = ratings_1 + ratings_2 + ratings_3\n",
    "\n",
    "# averagins of ratings \n",
    "average = total_ratings / 3\n",
    "\n",
    "# SHOW INFORMATIONS\n",
    "print(f'TOTAL: {total_ratings}\\nAVERAGE: {average:.2f}')"
   ]
  },
  {
   "cell_type": "code",
   "execution_count": 18,
   "metadata": {},
   "outputs": [
    {
     "name": "stdout",
     "output_type": "stream",
     "text": [
      "4.17\n"
     ]
    }
   ],
   "source": [
    "# BASIC LISTS IN PYTHON - Retrieving Multiple List Elements\n",
    "\n",
    "row_1 = ['Facebook', 0.0, 'USD', 2974676, 3.5]\n",
    "row_2 = ['Instagram', 0.0, 'USD', 2161558, 4.5]\n",
    "row_3 = ['Clash of Clans', 0.0, 'USD', 2130805, 4.5]\n",
    "row_4 = ['Fruit Ninja Classic', 1.99, 'USD', 698516, 4.5]\n",
    "row_5 = ['Minecraft: Pocket Edition', 6.99, 'USD', 522012, 4.5]\n",
    "\n",
    "track_name_facebook = row_1[0]\n",
    "track_name_instagram = row_2[0]\n",
    "track_name_minecraft = row_5[0]\n",
    "\n",
    "rating_count_tot_facebook = row_1[3]\n",
    "rating_count_tot_instagram = row_2[3]\n",
    "rating_count_tot_minecraft = row_5[3]\n",
    "\n",
    "user_rating_facebook = row_1[4]\n",
    "user_rating_instagram = row_2[4]\n",
    "user_rating_minecraft = row_5[4] \n",
    "\n",
    "fb_rating_data = [track_name_facebook, rating_count_tot_facebook, user_rating_facebook]\n",
    "insta_rating_data = [track_name_instagram, rating_count_tot_instagram, user_rating_instagram]\n",
    "minecraft_rating_data = [track_name_minecraft, rating_count_tot_minecraft, user_rating_minecraft]\n",
    "\n",
    "total_rating = fb_rating_data[2] + insta_rating_data[2] + minecraft_rating_data [2]\n",
    "average_rating = total_rating / 3\n",
    "\n",
    "# SHOW INFORMATIONS\n",
    "print(f'{average_rating:.2f}')"
   ]
  },
  {
   "cell_type": "code",
   "execution_count": 29,
   "metadata": {},
   "outputs": [
    {
     "name": "stdout",
     "output_type": "stream",
     "text": [
      "START: ['Facebook', 0.0, 'USD']\n",
      "END:['USD', 2974676, 3.5]\n",
      "MNECRAFT SLICING: ['USD', 522012]\n"
     ]
    }
   ],
   "source": [
    "# BASIC LISTS IN PYTHON - List Slicing\n",
    "\n",
    "# RECOVERING the first 3 elements in facebook list\n",
    "first_3_fb = row_1[:3]\n",
    "\n",
    "# RECOVERING the last 3 elements in facebook list\n",
    "last_3_fb = row_1[-3:]\n",
    "\n",
    "\n",
    "minecraft_3_4 = row_5[2:4]\n",
    "\n",
    "# SHOW INFORMATIONS\n",
    "print(f'START: {first_3_fb}')\n",
    "print(f'END:{last_3_fb}')\n",
    "print(f'MNECRAFT SLICING: {minecraft_3_4}')"
   ]
  },
  {
   "cell_type": "code",
   "execution_count": 30,
   "metadata": {},
   "outputs": [
    {
     "name": "stdout",
     "output_type": "stream",
     "text": [
      "[['Facebook', 0.0, 'USD', 2974676, 3.5], ['Instagram', 0.0, 'USD', 2161558, 4.5], ['Clash of Clans', 0.0, 'USD', 2130805, 4.5], ['Fruit Ninja Classic', 1.99, 'USD', 698516, 4.5], ['Minecraft: Pocket Edition', 6.99, 'USD', 522012, 4.5]]\n"
     ]
    }
   ],
   "source": [
    "# BASIC LISTS IN PYTHON - List of Lists\n",
    "\n",
    "games_apps = [row_1, row_2, row_3, row_4, row_5]\n",
    "print(games_apps)"
   ]
  },
  {
   "cell_type": "code",
   "execution_count": null,
   "metadata": {},
   "outputs": [
    {
     "name": "stdout",
     "output_type": "stream",
     "text": [
      "4.3\n"
     ]
    }
   ],
   "source": [
    "# BASIC LISTS IN PYTHON - Retrieving from List of Lists\n",
    "\n",
    "# CREATE LIST OS LISTS\n",
    "app_data_set = [row_1, row_2, row_3, row_4, row_5]\n",
    "\n",
    "# ACCESSING THE LIST OF LISTS TO CALCULATE THE AVERAGE RATING\n",
    "avg_rating = (app_data_set[0][-1] + row_2[1][-1] + row_3[2][-1] + row_4[3][-1] + row_5[4][-1]) / 5\n",
    "\n",
    "# SHOW INFORMATIONS\n",
    "print(avg_rating)"
   ]
  }
 ],
 "metadata": {
  "kernelspec": {
   "display_name": "Python 3",
   "language": "python",
   "name": "python3"
  },
  "language_info": {
   "codemirror_mode": {
    "name": "ipython",
    "version": 3
   },
   "file_extension": ".py",
   "mimetype": "text/x-python",
   "name": "python",
   "nbconvert_exporter": "python",
   "pygments_lexer": "ipython3",
   "version": "3.11.6"
  }
 },
 "nbformat": 4,
 "nbformat_minor": 2
}
