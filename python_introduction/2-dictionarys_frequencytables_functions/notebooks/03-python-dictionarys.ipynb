{
 "cells": [
  {
   "cell_type": "code",
   "execution_count": 16,
   "metadata": {},
   "outputs": [
    {
     "name": "stdout",
     "output_type": "stream",
     "text": [
      "dict_keys(['4+', '9+', '12+', '17+'])\n",
      "dict_values([4433, 987, 1155, 622])\n",
      "{'4+': 4433, '9+': 987, '12+': 1155, '17+': 622}\n",
      "987 - 622\n"
     ]
    }
   ],
   "source": [
    "# BASIC PYTHON - DICTIONARYS\n",
    "\n",
    "# Opening a File\n",
    "from csv import reader\n",
    "opened_file = open('../dataset/AppleStore.csv')\n",
    "read_file = reader(opened_file)\n",
    "apps_data = list(read_file)\n",
    "\n",
    "content_ratings = {'4+': 4433, '9+': 987, '12+': 1155, '17+': 622}\n",
    "print(content_ratings.keys())\n",
    "print(content_ratings.values())\n",
    "print(content_ratings)\n",
    "\n",
    "over_9 = content_ratings['9+']\n",
    "over_17 = content_ratings['17+']\n",
    "\n",
    "print(over_9, '-', over_17)"
   ]
  },
  {
   "cell_type": "code",
   "execution_count": 17,
   "metadata": {},
   "outputs": [
    {
     "name": "stdout",
     "output_type": "stream",
     "text": [
      "{'12+': 1155, '17+': 622, '4+': 4433, '9+': 987}\n",
      "1155\n"
     ]
    }
   ],
   "source": [
    "# Alternative Method of Creating a Dictionary\n",
    "\n",
    "content_ratings = {}\n",
    "\n",
    "content_ratings['12+'] = 1155\n",
    "content_ratings['17+'] = 622\n",
    "content_ratings['4+'] = 4433\n",
    "content_ratings['9+'] = 987\n",
    "\n",
    "over_12_n_apps = content_ratings['12+']\n",
    "\n",
    "print(content_ratings)\n",
    "print(over_12_n_apps)"
   ]
  },
  {
   "cell_type": "code",
   "execution_count": 20,
   "metadata": {},
   "outputs": [],
   "source": [
    "# Key-Value Pairs\n",
    "\n",
    "d_1 = {'key_1': 'first_value', \n",
    " 'key_2': 2,\n",
    " 'key_3': 3.14,\n",
    " 'key_4': True,\n",
    " 'key_5': [4,2,1],\n",
    " 'key_6': {'inner_key' : 6}\n",
    " }\n",
    "\n"
   ]
  }
 ],
 "metadata": {
  "kernelspec": {
   "display_name": "Python 3",
   "language": "python",
   "name": "python3"
  },
  "language_info": {
   "codemirror_mode": {
    "name": "ipython",
    "version": 3
   },
   "file_extension": ".py",
   "mimetype": "text/x-python",
   "name": "python",
   "nbconvert_exporter": "python",
   "pygments_lexer": "ipython3",
   "version": "3.11.6"
  }
 },
 "nbformat": 4,
 "nbformat_minor": 2
}
