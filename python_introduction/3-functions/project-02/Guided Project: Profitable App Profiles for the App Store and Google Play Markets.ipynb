{
 "cells": [
  {
   "cell_type": "markdown",
   "metadata": {},
   "source": [
    "### DATA SCIENCE PROJECT - @devalissonalves\n",
    "\n",
    "#### Profitable App Profiles for the App Store and Google Play Markets \n",
    "\n",
    "### INTRODUCTION AND GOALS OF PROJECT"
   ]
  },
  {
   "cell_type": "code",
   "execution_count": 25,
   "metadata": {},
   "outputs": [],
   "source": [
    "def explore_data(dataset, start, end, rows_and_columns = False):\n",
    "    \n",
    "    dataset_slice = dataset[start:end]    \n",
    "    \n",
    "    for row in dataset_slice:\n",
    "        print(row)\n",
    "        print('\\n') # adds a new (empty) line after each row\n",
    "\n",
    "    if rows_and_columns:\n",
    "        print('Number of rows:', len(dataset))\n",
    "        print('Number of columns:', len(dataset[0]))"
   ]
  },
  {
   "cell_type": "code",
   "execution_count": 26,
   "metadata": {},
   "outputs": [
    {
     "name": "stdout",
     "output_type": "stream",
     "text": [
      "['284882215', 'Facebook', '389879808', 'USD', '0.0', '2974676', '212', '3.5', '3.5', '95.0', '4+', 'Social Networking', '37', '1', '29', '1']\n",
      "\n",
      "\n",
      "['389801252', 'Instagram', '113954816', 'USD', '0.0', '2161558', '1289', '4.5', '4.0', '10.23', '12+', 'Photo & Video', '37', '0', '29', '1']\n",
      "\n",
      "\n",
      "Number of rows: 7197\n",
      "Number of columns: 16\n",
      "['Photo Editor & Candy Camera & Grid & ScrapBook', 'ART_AND_DESIGN', '4.1', '159', '19M', '10,000+', 'Free', '0', 'Everyone', 'Art & Design', 'January 7, 2018', '1.0.0', '4.0.3 and up']\n",
      "\n",
      "\n",
      "['Coloring book moana', 'ART_AND_DESIGN', '3.9', '967', '14M', '500,000+', 'Free', '0', 'Everyone', 'Art & Design;Pretend Play', 'January 15, 2018', '2.0.0', '4.0.3 and up']\n",
      "\n",
      "\n",
      "Number of rows: 10841\n",
      "Number of columns: 13\n",
      "['id', 'track_name', 'size_bytes', 'currency', 'price', 'rating_count_tot', 'rating_count_ver', 'user_rating', 'user_rating_ver', 'ver', 'cont_rating', 'prime_genre', 'sup_devices.num', 'ipadSc_urls.num', 'lang.num', 'vpp_lic']\n",
      "13\n"
     ]
    }
   ],
   "source": [
    "# OPEN DATASETS (APPSTORE AND GOOGLEPLAY)\n",
    "from csv import reader\n",
    "\n",
    "#APPLE DATASET\n",
    "opened_file_apple = open('./dataset/AppleStore.csv')\n",
    "read_file_apple = reader(opened_file_apple)\n",
    "apps_data_apple = list(read_file_apple)\n",
    "header_apple = apps_data_apple[0]\n",
    "\n",
    "# GOOGLE DATASET\n",
    "opened_file_google = open('./dataset/googleplaystore.csv')\n",
    "read_file_google = reader(opened_file_google)\n",
    "apps_data_google = list(read_file_google)\n",
    "header_google = apps_data_google[0]\n",
    "\n",
    "explore_data(apps_data_apple[1:], 0, 2, True)\n",
    "explore_data(apps_data_google[1:], 0, 2, True)\n",
    "\n",
    "print(header_apple)\n",
    "print(len(header_google))\n"
   ]
  },
  {
   "cell_type": "code",
   "execution_count": 27,
   "metadata": {},
   "outputs": [
    {
     "name": "stdout",
     "output_type": "stream",
     "text": [
      "['Life Made WI-Fi Touchscreen Photo Frame', '1.9', '19', '3.0M', '1,000+', 'Free', '0', 'Everyone', '', 'February 11, 2018', '1.0.19', '4.0 and up']\n",
      "\n",
      "\n",
      "Index position is: 10473\n",
      "Index 10473 has been deleted!\n"
     ]
    }
   ],
   "source": [
    "# Deleting Wrong Data\n",
    "\n",
    "for row in apps_data_google[1:]:\n",
    "    if len(row) != len(header_google):\n",
    "        print(row)\n",
    "        print('\\n')\n",
    "        print(\"Index position is:\", apps_data_google.index(row))\n",
    "        \n",
    "        # deleting index with missing data\n",
    "        index = apps_data_google.index(row)\n",
    "        del apps_data_google[index]\n",
    "        print(f'Index {index} has been deleted!')\n"
   ]
  },
  {
   "cell_type": "code",
   "execution_count": 28,
   "metadata": {},
   "outputs": [
    {
     "name": "stdout",
     "output_type": "stream",
     "text": [
      "['Instagram', 'SOCIAL', '4.5', '66577313', 'Varies with device', '1,000,000,000+', 'Free', '0', 'Teen', 'Social', 'July 31, 2018', 'Varies with device', 'Varies with device']\n",
      "['Instagram', 'SOCIAL', '4.5', '66577446', 'Varies with device', '1,000,000,000+', 'Free', '0', 'Teen', 'Social', 'July 31, 2018', 'Varies with device', 'Varies with device']\n",
      "['Instagram', 'SOCIAL', '4.5', '66577313', 'Varies with device', '1,000,000,000+', 'Free', '0', 'Teen', 'Social', 'July 31, 2018', 'Varies with device', 'Varies with device']\n",
      "['Instagram', 'SOCIAL', '4.5', '66509917', 'Varies with device', '1,000,000,000+', 'Free', '0', 'Teen', 'Social', 'July 31, 2018', 'Varies with device', 'Varies with device']\n",
      "\n",
      "\n",
      "\n",
      "Number of duplicate apps:  1181\n",
      "Examples of duplicate apps:  ['Quick PDF Scanner + OCR FREE', 'Box', 'Google My Business', 'ZOOM Cloud Meetings', 'join.me - Simple Meetings', 'Box', 'Zenefits', 'Google Ads', 'Google My Business', 'Slack']\n"
     ]
    }
   ],
   "source": [
    "# Removing Duplicate Entries: Part One\n",
    "\n",
    "# first moment - Identifying some duplicate applications\n",
    "# In this case, for example, we found 4 pieces of evidence from the Facebook application that were possibly collected at different times as they contain different evaluation numbers.\n",
    "\n",
    "for app in apps_data_google:\n",
    "    name = app [0]\n",
    "    if name == 'Instagram':\n",
    "        print(app)\n",
    "\n",
    "print('\\n\\n')\n",
    "\n",
    "# Finding the total number of repeated applications.\n",
    "\n",
    "duplicate_apps = []\n",
    "unique_apps = []\n",
    "\n",
    "for app in apps_data_google:\n",
    "    name = app[0]\n",
    "    if name in unique_apps:\n",
    "        duplicate_apps.append(name)\n",
    "    else:\n",
    "        unique_apps.append(name)\n",
    "\n",
    "print('Number of duplicate apps: ', len(duplicate_apps))\n",
    "print('Examples of duplicate apps: ', duplicate_apps[:10])"
   ]
  },
  {
   "cell_type": "code",
   "execution_count": 29,
   "metadata": {},
   "outputs": [],
   "source": [
    "# From this point on, the strategy will be to leave in the dataset only the instance of applications that contain the highest number of evaluations.\n",
    "\n",
    "\n",
    "# PART 1 - Create a dictionary where each key is a unique app name and the corresponding dictionary value is the highest number of reviews of that app\n",
    "\n",
    "reviews_max = {}\n",
    "\n",
    "for app in apps_data_google[1:]:\n",
    "    name = app[0]\n",
    "    n_reviews = float(app[3])\n",
    "    if name in reviews_max and reviews_max[name] < n_reviews:\n",
    "        reviews_max[name] = n_reviews\n",
    "    elif name not in reviews_max:\n",
    "        reviews_max[name] = n_reviews\n",
    "\n",
    "\n",
    "# PART 2 - Use the dictionary you created above to remove the duplicate rows:\n",
    "\n",
    "data_google_clean = []\n",
    "already_added = []\n",
    "\n",
    "for app in apps_data_google[1:]:\n",
    "    name = app[0]\n",
    "    n_reviews = float(app[3])\n",
    "    if n_reviews == reviews_max[name] and name not in already_added:\n",
    "        data_google_clean.append(app)\n",
    "        already_added.append(name)\n",
    "\n"
   ]
  },
  {
   "cell_type": "code",
   "execution_count": 30,
   "metadata": {},
   "outputs": [
    {
     "name": "stdout",
     "output_type": "stream",
     "text": [
      "9614\n",
      "\n",
      "\n",
      "45\n"
     ]
    }
   ],
   "source": [
    "# Removing Non-English Apps: Part One\n",
    "\n",
    "def string_analysis(name_app):\n",
    "    count_word = 0\n",
    "    for word in name_app:\n",
    "        if ord(word) > 127:\n",
    "            count_word += 1\n",
    "\n",
    "    if(count_word > 3):\n",
    "        return False\n",
    "    else:\n",
    "        return True\n",
    "\n",
    "english_apps = []\n",
    "non_english_apps = []\n",
    "\n",
    "for app in data_google_clean:\n",
    "    name = app[0]\n",
    "    if string_analysis(name):\n",
    "        english_apps.append(name)\n",
    "    else:\n",
    "        non_english_apps.append(name)\n",
    "\n",
    "print(len(english_apps))\n",
    "print('\\n')\n",
    "print(len(non_english_apps))"
   ]
  },
  {
   "cell_type": "code",
   "execution_count": 31,
   "metadata": {},
   "outputs": [
    {
     "name": "stdout",
     "output_type": "stream",
     "text": [
      "4056\n",
      "8905\n"
     ]
    }
   ],
   "source": [
    "# Isolating the Free Apps\n",
    "\n",
    "free_apps_apple = []\n",
    "free_apps_google = []\n",
    "\n",
    "for app in apps_data_apple[1:]:\n",
    "    if app[4] == '0' or app[4] == '0.0':\n",
    "        free_apps_apple.append(app)\n",
    "\n",
    "\n",
    "for app in data_google_clean:\n",
    "    if app[7] == '0' or app[7] == '0.0':\n",
    "        free_apps_google.append(app)\n",
    "\n",
    "print(len(free_apps_apple))\n",
    "print(len(free_apps_google))"
   ]
  },
  {
   "cell_type": "code",
   "execution_count": 32,
   "metadata": {},
   "outputs": [
    {
     "name": "stdout",
     "output_type": "stream",
     "text": [
      "id\n",
      "track_name\n",
      "size_bytes\n",
      "currency\n",
      "price\n",
      "rating_count_tot\n",
      "rating_count_ver\n",
      "user_rating\n",
      "user_rating_ver\n",
      "ver\n",
      "cont_rating\n",
      "prime_genre\n",
      "sup_devices.num\n",
      "ipadSc_urls.num\n",
      "lang.num\n",
      "vpp_lic\n",
      "\n",
      "\n",
      "\n",
      "App\n",
      "Category\n",
      "Rating\n",
      "Reviews\n",
      "Size\n",
      "Installs\n",
      "Type\n",
      "Price\n",
      "Content Rating\n",
      "Genres\n",
      "Last Updated\n",
      "Current Ver\n",
      "Android Ver\n"
     ]
    }
   ],
   "source": [
    "# Most Common Apps by Genre: Part One\n",
    "\n",
    "# Goal: The idea is to design applications that are well received by both audiences (iOS and Google). Therefore, the strategy is to identify which application genres are most common in both markets.\n",
    "\n",
    "# It was observed that gender columns from both sets can be observed in the datasets. On Google index 9 and 1 and on Apple index 11\n",
    "\n",
    "# index 11\n",
    "for app in header_apple:\n",
    "    print(app)\n",
    "\n",
    "print('\\n\\n')\n",
    "\n",
    "#index 9 e index 1 - Category and genres\n",
    "for app in header_google:\n",
    "    print(app)"
   ]
  },
  {
   "cell_type": "code",
   "execution_count": null,
   "metadata": {},
   "outputs": [],
   "source": [
    "# Most Common Apps by Genre: Part Two\n",
    "\n",
    "def freq_table(dataset, index):\n",
    "    freq_table_dict = {}\n",
    "    total = 0\n",
    "\n",
    "    for app in dataset:\n",
    "        # Count the total number of applications read in the dataset\n",
    "        total += 1\n",
    "\n",
    "        # Structure that creates frequency table logic\n",
    "        if app[index] in freq_table_dict:\n",
    "            freq_table_dict[app[index]] += 1\n",
    "        else:\n",
    "            freq_table_dict[app[index]] = 1\n",
    "\n",
    "    # based on the sum of the total number of applications, a new table containing the percentages is generated.\n",
    "    table_percentages = {}\n",
    "    for key in freq_table_dict:\n",
    "        percentage = (freq_table_dict[key] / total) * 100\n",
    "        table_percentages[key] = percentage \n",
    "    \n",
    "    return table_percentages\n",
    "def display_table(dataset, index):\n",
    "    table = freq_table(dataset, index)\n",
    "    table_display = []\n",
    "    for key in table:\n",
    "        key_val_as_tuple = (table[key], key)\n",
    "        table_display.append(key_val_as_tuple)\n",
    "\n",
    "    table_sorted = sorted(table_display, reverse = True)\n",
    "    for entry in table_sorted:\n",
    "        print(entry[1], ':', entry[0])\n",
    "\n",
    "# display_table(free_apps_google, 9)\n",
    "# display_table(free_apps_google, 1)\n",
    "# display_table(free_apps_apple[1:], 11)"
   ]
  },
  {
   "cell_type": "code",
   "execution_count": 34,
   "metadata": {},
   "outputs": [],
   "source": [
    "# Most Common Apps by Genre: Part Three\n",
    "\n",
    "# - Analisando o dataset do Google Play, podemos observar os aplicatos de ferramentas como principal app mais comum. Seguido de aplicativos para entretenimento e educação. \n",
    "\n",
    "# - Analisando o dataset da Apple, podemos observar um expressivo percentual (+55%) para aplicativos do gênero Games, sendo seguido pelo gênero de entretenimento. \n",
    "\n",
    "# - Dentre os principais 10 aplicativos do Google Play e da Apple Store em comum, podemos descatar uma tendência de utilização para aplicativos de entretenimento, educação, estilo de vida, finaças e esportes. \n",
    "\n",
    "\n",
    "\n",
    "# Analise a tabela de frequência gerada para a coluna Categorye Genresdo conjunto de dados do Google Play\n",
    "\n",
    "# - Podemos observar que os gêneros mais comuns são aplicativos voltados para a Família, Games, Ferramentas, Negócios e Estilo de vida\n",
    "# -  Dentre os principais 10 aplicativos do Google Play e da Apple Store em comum, podemos descatar uma tendência de utilização para aplicativos de entretenimento, educação, estilo de vida, finaças e esportes. \n",
    "\n",
    "# - Para saber a quantidade de usuários por gênero precisamos fazer novas análises.\n"
   ]
  },
  {
   "cell_type": "code",
   "execution_count": null,
   "metadata": {},
   "outputs": [],
   "source": [
    "display_table(free_apps_google, 1)"
   ]
  },
  {
   "cell_type": "code",
   "execution_count": null,
   "metadata": {},
   "outputs": [],
   "source": [
    "display_table(free_apps_google, 9)"
   ]
  },
  {
   "cell_type": "code",
   "execution_count": null,
   "metadata": {},
   "outputs": [],
   "source": [
    "# Most Popular Apps by Genre on the App Store\n",
    "\n",
    "prime_genre_dict = freq_table(free_apps_apple, -5) \n",
    "\n",
    "for genre in prime_genre_dict:\n",
    "    total = 0\n",
    "    len_genre = 0\n",
    "    for app in free_apps_apple:\n",
    "        genre_app = app[-5]\n",
    "        if genre_app == genre:\n",
    "            n_ratings = float(app[5])\n",
    "            total += n_ratings\n",
    "            len_genre += 1\n",
    "    avg_n_ratings = total / len_genre\n",
    "    print(genre, ':', avg_n_ratings)\n",
    "    "
   ]
  },
  {
   "cell_type": "code",
   "execution_count": null,
   "metadata": {},
   "outputs": [],
   "source": [
    "# Most Popular Apps by Genre on Google Play\n",
    "\n",
    "display_table(free_apps_google, 5)\n",
    "categories_android = freq_table(data_google_clean, 1)\n",
    "\n",
    "for category in categories_android:\n",
    "    total = 0\n",
    "    len_category = 0\n",
    "    for app in data_google_clean:\n",
    "        category_app = app[1]\n",
    "        if category_app == category:            \n",
    "            n_installs = app[5]\n",
    "            n_installs = n_installs.replace(',', '')\n",
    "            n_installs = n_installs.replace('+', '')\n",
    "            total += float(n_installs)\n",
    "            len_category += 1\n",
    "    avg_n_installs = total / len_category\n",
    "    print(category, ':', avg_n_installs)\n"
   ]
  }
 ],
 "metadata": {
  "kernelspec": {
   "display_name": "Python 3",
   "language": "python",
   "name": "python3"
  },
  "language_info": {
   "codemirror_mode": {
    "name": "ipython",
    "version": 3
   },
   "file_extension": ".py",
   "mimetype": "text/x-python",
   "name": "python",
   "nbconvert_exporter": "python",
   "pygments_lexer": "ipython3",
   "version": "3.11.5"
  }
 },
 "nbformat": 4,
 "nbformat_minor": 2
}
